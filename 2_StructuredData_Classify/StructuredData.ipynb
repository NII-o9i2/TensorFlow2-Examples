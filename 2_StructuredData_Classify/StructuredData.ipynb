{
 "cells": [
  {
   "cell_type": "code",
   "execution_count": 35,
   "metadata": {},
   "outputs": [],
   "source": [
    "import numpy as np \n",
    "import pandas as pd \n",
    "import tensorflow as tf \n",
    "import keras as K \n",
    "import keras.layers as layers\n",
    "from sklearn.model_selection import train_test_split"
   ]
  },
  {
   "cell_type": "code",
   "execution_count": 15,
   "metadata": {},
   "outputs": [
    {
     "output_type": "execute_result",
     "data": {
      "text/plain": "   age  sex  cp  trestbps  chol  fbs  restecg  thalach  exang  oldpeak  slope  \\\n0   63    1   1       145   233    1        2      150      0      2.3      3   \n1   67    1   4       160   286    0        2      108      1      1.5      2   \n2   67    1   4       120   229    0        2      129      1      2.6      2   \n3   37    1   3       130   250    0        0      187      0      3.5      3   \n4   41    0   2       130   204    0        2      172      0      1.4      1   \n\n   ca        thal  target  \n0   0       fixed       0  \n1   3      normal       1  \n2   2  reversible       0  \n3   0      normal       0  \n4   0      normal       0  ",
      "text/html": "<div>\n<style scoped>\n    .dataframe tbody tr th:only-of-type {\n        vertical-align: middle;\n    }\n\n    .dataframe tbody tr th {\n        vertical-align: top;\n    }\n\n    .dataframe thead th {\n        text-align: right;\n    }\n</style>\n<table border=\"1\" class=\"dataframe\">\n  <thead>\n    <tr style=\"text-align: right;\">\n      <th></th>\n      <th>age</th>\n      <th>sex</th>\n      <th>cp</th>\n      <th>trestbps</th>\n      <th>chol</th>\n      <th>fbs</th>\n      <th>restecg</th>\n      <th>thalach</th>\n      <th>exang</th>\n      <th>oldpeak</th>\n      <th>slope</th>\n      <th>ca</th>\n      <th>thal</th>\n      <th>target</th>\n    </tr>\n  </thead>\n  <tbody>\n    <tr>\n      <th>0</th>\n      <td>63</td>\n      <td>1</td>\n      <td>1</td>\n      <td>145</td>\n      <td>233</td>\n      <td>1</td>\n      <td>2</td>\n      <td>150</td>\n      <td>0</td>\n      <td>2.3</td>\n      <td>3</td>\n      <td>0</td>\n      <td>fixed</td>\n      <td>0</td>\n    </tr>\n    <tr>\n      <th>1</th>\n      <td>67</td>\n      <td>1</td>\n      <td>4</td>\n      <td>160</td>\n      <td>286</td>\n      <td>0</td>\n      <td>2</td>\n      <td>108</td>\n      <td>1</td>\n      <td>1.5</td>\n      <td>2</td>\n      <td>3</td>\n      <td>normal</td>\n      <td>1</td>\n    </tr>\n    <tr>\n      <th>2</th>\n      <td>67</td>\n      <td>1</td>\n      <td>4</td>\n      <td>120</td>\n      <td>229</td>\n      <td>0</td>\n      <td>2</td>\n      <td>129</td>\n      <td>1</td>\n      <td>2.6</td>\n      <td>2</td>\n      <td>2</td>\n      <td>reversible</td>\n      <td>0</td>\n    </tr>\n    <tr>\n      <th>3</th>\n      <td>37</td>\n      <td>1</td>\n      <td>3</td>\n      <td>130</td>\n      <td>250</td>\n      <td>0</td>\n      <td>0</td>\n      <td>187</td>\n      <td>0</td>\n      <td>3.5</td>\n      <td>3</td>\n      <td>0</td>\n      <td>normal</td>\n      <td>0</td>\n    </tr>\n    <tr>\n      <th>4</th>\n      <td>41</td>\n      <td>0</td>\n      <td>2</td>\n      <td>130</td>\n      <td>204</td>\n      <td>0</td>\n      <td>2</td>\n      <td>172</td>\n      <td>0</td>\n      <td>1.4</td>\n      <td>1</td>\n      <td>0</td>\n      <td>normal</td>\n      <td>0</td>\n    </tr>\n  </tbody>\n</table>\n</div>"
     },
     "metadata": {},
     "execution_count": 15
    }
   ],
   "source": [
    "URL = 'https://storage.googleapis.com/applied-dl/heart.csv'\n",
    "dataframe = pd.read_csv('/home/xiaotongfeng/Desktop/TensorFlow2-Examples/2_StructuredData_Classify/heart.csv')\n",
    "dataframe.head()"
   ]
  },
  {
   "cell_type": "code",
   "execution_count": 16,
   "metadata": {},
   "outputs": [
    {
     "output_type": "execute_result",
     "data": {
      "text/plain": "     age  sex  cp  trestbps  chol  fbs  restecg  thalach  exang  oldpeak  \\\n222   66    0   3       146   278    0        2      152      0      0.0   \n263   65    1   4       120   177    0        0      140      0      0.4   \n203   67    0   4       106   223    0        0      142      0      0.3   \n123   57    1   4       152   274    0        0       88      1      1.2   \n272   51    0   4       130   305    0        0      142      1      1.2   \n\n     slope  ca        thal  target  \n222      2   1      normal       0  \n263      1   0  reversible       0  \n203      1   2      normal       0  \n123      2   1  reversible       0  \n272      2   0  reversible       1  ",
      "text/html": "<div>\n<style scoped>\n    .dataframe tbody tr th:only-of-type {\n        vertical-align: middle;\n    }\n\n    .dataframe tbody tr th {\n        vertical-align: top;\n    }\n\n    .dataframe thead th {\n        text-align: right;\n    }\n</style>\n<table border=\"1\" class=\"dataframe\">\n  <thead>\n    <tr style=\"text-align: right;\">\n      <th></th>\n      <th>age</th>\n      <th>sex</th>\n      <th>cp</th>\n      <th>trestbps</th>\n      <th>chol</th>\n      <th>fbs</th>\n      <th>restecg</th>\n      <th>thalach</th>\n      <th>exang</th>\n      <th>oldpeak</th>\n      <th>slope</th>\n      <th>ca</th>\n      <th>thal</th>\n      <th>target</th>\n    </tr>\n  </thead>\n  <tbody>\n    <tr>\n      <th>222</th>\n      <td>66</td>\n      <td>0</td>\n      <td>3</td>\n      <td>146</td>\n      <td>278</td>\n      <td>0</td>\n      <td>2</td>\n      <td>152</td>\n      <td>0</td>\n      <td>0.0</td>\n      <td>2</td>\n      <td>1</td>\n      <td>normal</td>\n      <td>0</td>\n    </tr>\n    <tr>\n      <th>263</th>\n      <td>65</td>\n      <td>1</td>\n      <td>4</td>\n      <td>120</td>\n      <td>177</td>\n      <td>0</td>\n      <td>0</td>\n      <td>140</td>\n      <td>0</td>\n      <td>0.4</td>\n      <td>1</td>\n      <td>0</td>\n      <td>reversible</td>\n      <td>0</td>\n    </tr>\n    <tr>\n      <th>203</th>\n      <td>67</td>\n      <td>0</td>\n      <td>4</td>\n      <td>106</td>\n      <td>223</td>\n      <td>0</td>\n      <td>0</td>\n      <td>142</td>\n      <td>0</td>\n      <td>0.3</td>\n      <td>1</td>\n      <td>2</td>\n      <td>normal</td>\n      <td>0</td>\n    </tr>\n    <tr>\n      <th>123</th>\n      <td>57</td>\n      <td>1</td>\n      <td>4</td>\n      <td>152</td>\n      <td>274</td>\n      <td>0</td>\n      <td>0</td>\n      <td>88</td>\n      <td>1</td>\n      <td>1.2</td>\n      <td>2</td>\n      <td>1</td>\n      <td>reversible</td>\n      <td>0</td>\n    </tr>\n    <tr>\n      <th>272</th>\n      <td>51</td>\n      <td>0</td>\n      <td>4</td>\n      <td>130</td>\n      <td>305</td>\n      <td>0</td>\n      <td>0</td>\n      <td>142</td>\n      <td>1</td>\n      <td>1.2</td>\n      <td>2</td>\n      <td>0</td>\n      <td>reversible</td>\n      <td>1</td>\n    </tr>\n  </tbody>\n</table>\n</div>"
     },
     "metadata": {},
     "execution_count": 16
    }
   ],
   "source": [
    "train,test = train_test_split(dataframe,test_size = 0.2)\n",
    "train,valid = train_test_split(train,test_size = 0.2)\n",
    "train.head()"
   ]
  },
  {
   "cell_type": "code",
   "execution_count": 17,
   "metadata": {},
   "outputs": [
    {
     "output_type": "execute_result",
     "data": {
      "text/plain": "'2.2.0'"
     },
     "metadata": {},
     "execution_count": 17
    }
   ],
   "source": [
    "tf.__version__"
   ]
  },
  {
   "cell_type": "code",
   "execution_count": 13,
   "metadata": {},
   "outputs": [
    {
     "output_type": "stream",
     "name": "stdout",
     "text": "95     1\n144    0\n47     0\n191    0\n301    1\n      ..\n171    0\n275    0\n51     0\n26     0\n204    0\nName: target, Length: 193, dtype: int64\n"
    }
   ],
   "source": []
  },
  {
   "cell_type": "code",
   "execution_count": 18,
   "metadata": {},
   "outputs": [
    {
     "output_type": "execute_result",
     "data": {
      "text/plain": "     age  sex  cp  trestbps  chol  fbs  restecg  thalach  exang  oldpeak  \\\n222   66    0   3       146   278    0        2      152      0      0.0   \n263   65    1   4       120   177    0        0      140      0      0.4   \n203   67    0   4       106   223    0        0      142      0      0.3   \n123   57    1   4       152   274    0        0       88      1      1.2   \n272   51    0   4       130   305    0        0      142      1      1.2   \n\n     slope  ca        thal  target  \n222      2   1      normal       0  \n263      1   0  reversible       0  \n203      1   2      normal       0  \n123      2   1  reversible       0  \n272      2   0  reversible       1  ",
      "text/html": "<div>\n<style scoped>\n    .dataframe tbody tr th:only-of-type {\n        vertical-align: middle;\n    }\n\n    .dataframe tbody tr th {\n        vertical-align: top;\n    }\n\n    .dataframe thead th {\n        text-align: right;\n    }\n</style>\n<table border=\"1\" class=\"dataframe\">\n  <thead>\n    <tr style=\"text-align: right;\">\n      <th></th>\n      <th>age</th>\n      <th>sex</th>\n      <th>cp</th>\n      <th>trestbps</th>\n      <th>chol</th>\n      <th>fbs</th>\n      <th>restecg</th>\n      <th>thalach</th>\n      <th>exang</th>\n      <th>oldpeak</th>\n      <th>slope</th>\n      <th>ca</th>\n      <th>thal</th>\n      <th>target</th>\n    </tr>\n  </thead>\n  <tbody>\n    <tr>\n      <th>222</th>\n      <td>66</td>\n      <td>0</td>\n      <td>3</td>\n      <td>146</td>\n      <td>278</td>\n      <td>0</td>\n      <td>2</td>\n      <td>152</td>\n      <td>0</td>\n      <td>0.0</td>\n      <td>2</td>\n      <td>1</td>\n      <td>normal</td>\n      <td>0</td>\n    </tr>\n    <tr>\n      <th>263</th>\n      <td>65</td>\n      <td>1</td>\n      <td>4</td>\n      <td>120</td>\n      <td>177</td>\n      <td>0</td>\n      <td>0</td>\n      <td>140</td>\n      <td>0</td>\n      <td>0.4</td>\n      <td>1</td>\n      <td>0</td>\n      <td>reversible</td>\n      <td>0</td>\n    </tr>\n    <tr>\n      <th>203</th>\n      <td>67</td>\n      <td>0</td>\n      <td>4</td>\n      <td>106</td>\n      <td>223</td>\n      <td>0</td>\n      <td>0</td>\n      <td>142</td>\n      <td>0</td>\n      <td>0.3</td>\n      <td>1</td>\n      <td>2</td>\n      <td>normal</td>\n      <td>0</td>\n    </tr>\n    <tr>\n      <th>123</th>\n      <td>57</td>\n      <td>1</td>\n      <td>4</td>\n      <td>152</td>\n      <td>274</td>\n      <td>0</td>\n      <td>0</td>\n      <td>88</td>\n      <td>1</td>\n      <td>1.2</td>\n      <td>2</td>\n      <td>1</td>\n      <td>reversible</td>\n      <td>0</td>\n    </tr>\n    <tr>\n      <th>272</th>\n      <td>51</td>\n      <td>0</td>\n      <td>4</td>\n      <td>130</td>\n      <td>305</td>\n      <td>0</td>\n      <td>0</td>\n      <td>142</td>\n      <td>1</td>\n      <td>1.2</td>\n      <td>2</td>\n      <td>0</td>\n      <td>reversible</td>\n      <td>1</td>\n    </tr>\n  </tbody>\n</table>\n</div>"
     },
     "metadata": {},
     "execution_count": 18
    }
   ],
   "source": [
    "train.head()"
   ]
  },
  {
   "cell_type": "code",
   "execution_count": 14,
   "metadata": {},
   "outputs": [],
   "source": [
    "def df_to_dataset(dataframe,shuffle = True, batch_size = 32):\n",
    "    dataframe_ = dataframe.copy()\n",
    "    labels = dataframe_.pop('target')\n",
    "    ds = tf.data.Dataset.from_tensor_slices((dict(dataframe_),labels))\n",
    "    if shuffle:\n",
    "        ds = ds.shuffle(buffer_size=len(dataframe_))\n",
    "    ds = ds.batch(batch_size)\n",
    "    return ds"
   ]
  },
  {
   "cell_type": "code",
   "execution_count": 23,
   "metadata": {
    "tags": [
     "outputPrepend"
    ]
   },
   "outputs": [
    {
     "output_type": "stream",
     "name": "stdout",
     "text": "({'age': array([42, 38, 53, 59, 58]), 'sex': array([0, 1, 1, 1, 1]), 'cp': array([3, 1, 4, 3, 4]), 'trestbps': array([120, 120, 140, 126, 100]), 'chol': array([209, 231, 203, 218, 234]), 'fbs': array([0, 0, 1, 1, 0]), 'restecg': array([0, 0, 2, 0, 0]), 'thalach': array([173, 182, 155, 134, 156]), 'exang': array([0, 1, 1, 0, 0]), 'oldpeak': array([0. , 3.8, 3.1, 2.2, 0.1]), 'slope': array([2, 2, 3, 2, 1]), 'ca': array([0, 0, 0, 1, 1]), 'thal': array([b'normal', b'reversible', b'reversible', b'fixed', b'reversible'],\n      dtype=object)}, array([0, 1, 0, 1, 1]))\n"
    }
   ],
   "source": [
    "train_ds = df_to_dataset(train,batch_size=5)\n",
    "val_ds = df_to_dataset(valid,batch_size=5)\n",
    "test_ds = df_to_dataset(test,batch_size=5)\n",
    "list1 = list(train_ds.as_numpy_iterator())\n",
    "print(list1[0])"
   ]
  },
  {
   "cell_type": "code",
   "execution_count": 27,
   "metadata": {},
   "outputs": [
    {
     "output_type": "stream",
     "name": "stdout",
     "text": "Every feature: ['age', 'sex', 'cp', 'trestbps', 'chol', 'fbs', 'restecg', 'thalach', 'exang', 'oldpeak', 'slope', 'ca', 'thal']\nA batch of ages: tf.Tensor([61 52 54 49 59], shape=(5,), dtype=int64)\nA batch of targets: tf.Tensor([1 0 0 0 0], shape=(5,), dtype=int64)\nEvery feature: ['age', 'sex', 'cp', 'trestbps', 'chol', 'fbs', 'restecg', 'thalach', 'exang', 'oldpeak', 'slope', 'ca', 'thal']\nA batch of ages: tf.Tensor([58 57 41 44 62], shape=(5,), dtype=int64)\nA batch of targets: tf.Tensor([1 0 0 0 1], shape=(5,), dtype=int64)\nEvery feature: ['age', 'sex', 'cp', 'trestbps', 'chol', 'fbs', 'restecg', 'thalach', 'exang', 'oldpeak', 'slope', 'ca', 'thal']\nA batch of ages: tf.Tensor([60 58 44 58 61], shape=(5,), dtype=int64)\nA batch of targets: tf.Tensor([1 1 0 0 0], shape=(5,), dtype=int64)\n"
    }
   ],
   "source": [
    "for feature_batch, label_batch in train_ds.take(3):\n",
    "    print('Every feature:', list(feature_batch.keys()))\n",
    "    print('A batch of ages:', feature_batch['age'])\n",
    "    print('A batch of targets:', label_batch )"
   ]
  },
  {
   "cell_type": "markdown",
   "metadata": {},
   "source": [
    "## 特征列转换\n",
    "## feature column"
   ]
  },
  {
   "cell_type": "code",
   "execution_count": 38,
   "metadata": {},
   "outputs": [
    {
     "output_type": "stream",
     "name": "stdout",
     "text": "{'age': <tf.Tensor: shape=(5,), dtype=int64, numpy=array([55, 42, 58, 43, 59])>, 'sex': <tf.Tensor: shape=(5,), dtype=int64, numpy=array([1, 0, 1, 1, 1])>, 'cp': <tf.Tensor: shape=(5,), dtype=int64, numpy=array([2, 3, 4, 4, 4])>, 'trestbps': <tf.Tensor: shape=(5,), dtype=int64, numpy=array([130, 120, 150, 150, 138])>, 'chol': <tf.Tensor: shape=(5,), dtype=int64, numpy=array([262, 209, 270, 247, 271])>, 'fbs': <tf.Tensor: shape=(5,), dtype=int64, numpy=array([0, 0, 0, 0, 0])>, 'restecg': <tf.Tensor: shape=(5,), dtype=int64, numpy=array([0, 0, 2, 0, 2])>, 'thalach': <tf.Tensor: shape=(5,), dtype=int64, numpy=array([155, 173, 111, 171, 182])>, 'exang': <tf.Tensor: shape=(5,), dtype=int64, numpy=array([0, 0, 1, 0, 0])>, 'oldpeak': <tf.Tensor: shape=(5,), dtype=float64, numpy=array([0. , 0. , 0.8, 1.5, 0. ])>, 'slope': <tf.Tensor: shape=(5,), dtype=int64, numpy=array([1, 2, 1, 1, 1])>, 'ca': <tf.Tensor: shape=(5,), dtype=int64, numpy=array([0, 0, 0, 0, 0])>, 'thal': <tf.Tensor: shape=(5,), dtype=string, numpy=\narray([b'normal', b'normal', b'reversible', b'normal', b'normal'],\n      dtype=object)>}\n"
    }
   ],
   "source": [
    "example_batch = next(iter(train_ds))[0]\n",
    "print(example_batch)\n",
    "def demo(feature_column):\n",
    "    feature_layer = layers.DenseFeatures(feature_column)\n",
    "    print(feature_layer(example_batch).numpy())"
   ]
  },
  {
   "cell_type": "markdown",
   "metadata": {},
   "source": [
    "## 1) Numeric column"
   ]
  },
  {
   "cell_type": "code",
   "execution_count": 39,
   "metadata": {},
   "outputs": [
    {
     "output_type": "stream",
     "name": "stdout",
     "text": "WARNING:tensorflow:Layer dense_features is casting an input tensor from dtype float64 to the layer's dtype of float32, which is new behavior in TensorFlow 2.  The layer has dtype float32 because it's dtype defaults to floatx.\n\nIf you intended to run this layer in float32, you can safely ignore this warning. If in doubt, this warning is likely only an issue if you are porting a TensorFlow 1.X model to TensorFlow 2.\n\nTo change all layers to have dtype float64 by default, call `tf.keras.backend.set_floatx('float64')`. To change just this layer, pass dtype='float64' to the layer constructor. If you are the author of this layer, you can disable autocasting by passing autocast=False to the base Layer constructor.\n\n[[55.]\n [42.]\n [58.]\n [43.]\n [59.]]\n"
    }
   ],
   "source": [
    "from tensorflow import feature_column\n",
    "\n",
    "age = feature_column.numeric_column(\"age\")\n",
    "demo(age)"
   ]
  },
  {
   "cell_type": "markdown",
   "metadata": {},
   "source": [
    "## 2) Bucketized column"
   ]
  },
  {
   "cell_type": "code",
   "execution_count": 40,
   "metadata": {},
   "outputs": [
    {
     "output_type": "stream",
     "name": "stdout",
     "text": "WARNING:tensorflow:Layer dense_features_1 is casting an input tensor from dtype float64 to the layer's dtype of float32, which is new behavior in TensorFlow 2.  The layer has dtype float32 because it's dtype defaults to floatx.\n\nIf you intended to run this layer in float32, you can safely ignore this warning. If in doubt, this warning is likely only an issue if you are porting a TensorFlow 1.X model to TensorFlow 2.\n\nTo change all layers to have dtype float64 by default, call `tf.keras.backend.set_floatx('float64')`. To change just this layer, pass dtype='float64' to the layer constructor. If you are the author of this layer, you can disable autocasting by passing autocast=False to the base Layer constructor.\n\n[[0. 0. 1. 0.]\n [0. 1. 0. 0.]\n [0. 0. 1. 0.]\n [0. 1. 0. 0.]\n [0. 0. 1. 0.]]\n"
    }
   ],
   "source": [
    "age_buckets = feature_column.bucketized_column(age,boundaries=[18,50,80])\n",
    "demo(age_buckets)"
   ]
  },
  {
   "cell_type": "markdown",
   "metadata": {},
   "source": [
    "## 3) Categorical column"
   ]
  },
  {
   "cell_type": "code",
   "execution_count": 42,
   "metadata": {},
   "outputs": [
    {
     "output_type": "stream",
     "name": "stdout",
     "text": "WARNING:tensorflow:Layer dense_features_3 is casting an input tensor from dtype float64 to the layer's dtype of float32, which is new behavior in TensorFlow 2.  The layer has dtype float32 because it's dtype defaults to floatx.\n\nIf you intended to run this layer in float32, you can safely ignore this warning. If in doubt, this warning is likely only an issue if you are porting a TensorFlow 1.X model to TensorFlow 2.\n\nTo change all layers to have dtype float64 by default, call `tf.keras.backend.set_floatx('float64')`. To change just this layer, pass dtype='float64' to the layer constructor. If you are the author of this layer, you can disable autocasting by passing autocast=False to the base Layer constructor.\n\n[[0. 1. 0.]\n [0. 1. 0.]\n [0. 0. 1.]\n [0. 1. 0.]\n [0. 1. 0.]]\n"
    }
   ],
   "source": [
    "thal = feature_column.categorical_column_with_vocabulary_list('thal',['fixed','normal','reversible'])\n",
    "thal_one_hot = feature_column.indicator_column(thal)\n",
    "demo(thal_one_hot)"
   ]
  },
  {
   "cell_type": "markdown",
   "metadata": {},
   "source": [
    "## 4) Embedding column"
   ]
  },
  {
   "cell_type": "code",
   "execution_count": 43,
   "metadata": {},
   "outputs": [
    {
     "output_type": "stream",
     "name": "stdout",
     "text": "WARNING:tensorflow:Layer dense_features_4 is casting an input tensor from dtype float64 to the layer's dtype of float32, which is new behavior in TensorFlow 2.  The layer has dtype float32 because it's dtype defaults to floatx.\n\nIf you intended to run this layer in float32, you can safely ignore this warning. If in doubt, this warning is likely only an issue if you are porting a TensorFlow 1.X model to TensorFlow 2.\n\nTo change all layers to have dtype float64 by default, call `tf.keras.backend.set_floatx('float64')`. To change just this layer, pass dtype='float64' to the layer constructor. If you are the author of this layer, you can disable autocasting by passing autocast=False to the base Layer constructor.\n\n[[-0.28048638  0.08295303  0.41781107  0.16522782 -0.21135572 -0.21493904\n   0.15591055  0.16471213]\n [-0.28048638  0.08295303  0.41781107  0.16522782 -0.21135572 -0.21493904\n   0.15591055  0.16471213]\n [-0.26925907 -0.29685724 -0.49263385 -0.17231683 -0.02121721 -0.397148\n  -0.24269478 -0.6620404 ]\n [-0.28048638  0.08295303  0.41781107  0.16522782 -0.21135572 -0.21493904\n   0.15591055  0.16471213]\n [-0.28048638  0.08295303  0.41781107  0.16522782 -0.21135572 -0.21493904\n   0.15591055  0.16471213]]\n"
    }
   ],
   "source": [
    "thal_embedding = feature_column.embedding_column(thal, dimension=8)\n",
    "demo(thal_embedding)"
   ]
  },
  {
   "cell_type": "markdown",
   "metadata": {},
   "source": [
    "## 5) Hashed feature column"
   ]
  },
  {
   "cell_type": "code",
   "execution_count": 44,
   "metadata": {},
   "outputs": [
    {
     "output_type": "stream",
     "name": "stdout",
     "text": "WARNING:tensorflow:Layer dense_features_5 is casting an input tensor from dtype float64 to the layer's dtype of float32, which is new behavior in TensorFlow 2.  The layer has dtype float32 because it's dtype defaults to floatx.\n\nIf you intended to run this layer in float32, you can safely ignore this warning. If in doubt, this warning is likely only an issue if you are porting a TensorFlow 1.X model to TensorFlow 2.\n\nTo change all layers to have dtype float64 by default, call `tf.keras.backend.set_floatx('float64')`. To change just this layer, pass dtype='float64' to the layer constructor. If you are the author of this layer, you can disable autocasting by passing autocast=False to the base Layer constructor.\n\n[[0. 0. 0. ... 0. 0. 0.]\n [0. 0. 0. ... 0. 0. 0.]\n [0. 0. 0. ... 0. 0. 0.]\n [0. 0. 0. ... 0. 0. 0.]\n [0. 0. 0. ... 0. 0. 0.]]\n"
    }
   ],
   "source": [
    "thal_hashed = feature_column.categorical_column_with_hash_bucket(\n",
    "      'thal', hash_bucket_size=1000)\n",
    "demo(feature_column.indicator_column(thal_hashed))"
   ]
  },
  {
   "cell_type": "markdown",
   "metadata": {},
   "source": [
    "## 6) Crossed feature columns"
   ]
  },
  {
   "cell_type": "code",
   "execution_count": 45,
   "metadata": {},
   "outputs": [
    {
     "output_type": "stream",
     "name": "stdout",
     "text": "WARNING:tensorflow:Layer dense_features_6 is casting an input tensor from dtype float64 to the layer's dtype of float32, which is new behavior in TensorFlow 2.  The layer has dtype float32 because it's dtype defaults to floatx.\n\nIf you intended to run this layer in float32, you can safely ignore this warning. If in doubt, this warning is likely only an issue if you are porting a TensorFlow 1.X model to TensorFlow 2.\n\nTo change all layers to have dtype float64 by default, call `tf.keras.backend.set_floatx('float64')`. To change just this layer, pass dtype='float64' to the layer constructor. If you are the author of this layer, you can disable autocasting by passing autocast=False to the base Layer constructor.\n\n[[0. 0. 0. ... 0. 0. 0.]\n [0. 0. 0. ... 0. 0. 0.]\n [0. 0. 0. ... 0. 0. 0.]\n [0. 0. 0. ... 0. 0. 0.]\n [0. 0. 0. ... 0. 0. 0.]]\n"
    }
   ],
   "source": [
    "crossed_feature = feature_column.crossed_column([age_buckets, thal], hash_bucket_size=1000)\n",
    "demo(feature_column.indicator_column(crossed_feature))"
   ]
  },
  {
   "cell_type": "markdown",
   "metadata": {},
   "source": [
    "## For training"
   ]
  },
  {
   "cell_type": "code",
   "execution_count": 48,
   "metadata": {},
   "outputs": [],
   "source": [
    "feature_columns = []\n",
    "for iter_ in ['age','trestbps','chol','thalach','oldpeak','slope','ca']:\n",
    "    feature_columns.append(feature_column.numeric_column(iter_))\n",
    "\n",
    "age_buckets = feature_column.bucketized_column(age,boundaries=[18,25,30,35,40,45,50,55,60,65])\n",
    "feature_columns.append(age_buckets)\n",
    "\n",
    "thal = feature_column.categorical_column_with_vocabulary_list('thal',['fixed','normal','reversible'])\n",
    "thal_one_hot = feature_column.indicator_column(thal)\n",
    "feature_columns.append(thal_one_hot)\n",
    "\n",
    "thal_embedding = feature_column.embedding_column(thal,dimension=8)\n",
    "feature_columns.append(thal_embedding)\n",
    "\n",
    "crossed_feature = feature_column.crossed_column([age_buckets,thal],hash_bucket_size=1000)\n",
    "crossed_feature = feature_column.indicator_column(crossed_feature)\n",
    "feature_columns.append(crossed_feature)\n"
   ]
  },
  {
   "cell_type": "code",
   "execution_count": 49,
   "metadata": {},
   "outputs": [],
   "source": [
    "feature_layer = layers.DenseFeatures(feature_columns)"
   ]
  },
  {
   "cell_type": "code",
   "execution_count": 50,
   "metadata": {},
   "outputs": [],
   "source": [
    "model = keras.Sequential([\n",
    "    feature_layer,\n",
    "    layers.Dense(128,activation='relu'),\n",
    "    layers.Dense(128,activation='relu'),\n",
    "    layers.Dense(1,activation='sigmoid')\n",
    "]\n",
    ")\n"
   ]
  },
  {
   "cell_type": "code",
   "execution_count": 53,
   "metadata": {},
   "outputs": [
    {
     "output_type": "stream",
     "name": "stdout",
     "text": "Epoch 1/10\n39/39 [==============================] - 1s 18ms/step - loss: 1.2767 - accuracy: 0.6684 - val_loss: 0.7695 - val_accuracy: 0.8163\nEpoch 2/10\n39/39 [==============================] - 1s 18ms/step - loss: 0.4927 - accuracy: 0.7979 - val_loss: 0.3934 - val_accuracy: 0.8163\nEpoch 3/10\n39/39 [==============================] - 1s 18ms/step - loss: 0.5058 - accuracy: 0.7824 - val_loss: 0.3984 - val_accuracy: 0.8163\nEpoch 4/10\n39/39 [==============================] - 1s 18ms/step - loss: 0.4453 - accuracy: 0.8031 - val_loss: 0.3788 - val_accuracy: 0.8367\nEpoch 5/10\n39/39 [==============================] - 1s 18ms/step - loss: 0.7608 - accuracy: 0.7150 - val_loss: 0.5051 - val_accuracy: 0.7347\nEpoch 6/10\n39/39 [==============================] - 1s 18ms/step - loss: 0.4562 - accuracy: 0.7876 - val_loss: 0.3899 - val_accuracy: 0.8571\nEpoch 7/10\n39/39 [==============================] - 1s 19ms/step - loss: 0.3865 - accuracy: 0.8446 - val_loss: 0.4143 - val_accuracy: 0.7959\nEpoch 8/10\n39/39 [==============================] - 1s 19ms/step - loss: 0.4496 - accuracy: 0.7979 - val_loss: 0.4108 - val_accuracy: 0.8163\nEpoch 9/10\n39/39 [==============================] - 1s 19ms/step - loss: 0.4045 - accuracy: 0.8342 - val_loss: 0.3954 - val_accuracy: 0.8367\nEpoch 10/10\n39/39 [==============================] - 1s 20ms/step - loss: 0.3615 - accuracy: 0.8290 - val_loss: 0.4233 - val_accuracy: 0.8163\n"
    },
    {
     "output_type": "execute_result",
     "data": {
      "text/plain": "<tensorflow.python.keras.callbacks.History at 0x7f393c28a100>"
     },
     "metadata": {},
     "execution_count": 53
    }
   ],
   "source": [
    "model.compile(optimizer='adam',loss='binary_crossentropy',metrics=['accuracy'],run_eagerly = True)\n",
    "model.fit(train_ds,validation_data=val_ds,epochs=10)"
   ]
  },
  {
   "cell_type": "code",
   "execution_count": 54,
   "metadata": {},
   "outputs": [
    {
     "output_type": "stream",
     "name": "stdout",
     "text": "13/13 [==============================] - 0s 11ms/step - loss: 0.4267 - accuracy: 0.7377\nAccuracy 0.7377049326896667\n"
    }
   ],
   "source": [
    "loss, accuracy = model.evaluate(test_ds)\n",
    "print(\"Accuracy\",accuracy)"
   ]
  },
  {
   "cell_type": "code",
   "execution_count": null,
   "metadata": {},
   "outputs": [],
   "source": []
  }
 ],
 "metadata": {
  "language_info": {
   "codemirror_mode": {
    "name": "ipython",
    "version": 3
   },
   "file_extension": ".py",
   "mimetype": "text/x-python",
   "name": "python",
   "nbconvert_exporter": "python",
   "pygments_lexer": "ipython3",
   "version": "3.8.2-final"
  },
  "orig_nbformat": 2,
  "kernelspec": {
   "name": "python38264bit5b96df470e0b46698216581227a23266",
   "display_name": "Python 3.8.2 64-bit"
  }
 },
 "nbformat": 4,
 "nbformat_minor": 2
}