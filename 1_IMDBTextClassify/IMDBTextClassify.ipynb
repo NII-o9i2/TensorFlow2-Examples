{
 "cells": [
  {
   "cell_type": "code",
   "execution_count": 31,
   "metadata": {},
   "outputs": [],
   "source": [
    "import numpy as np\n",
    "import tensorflow as tf \n",
    "import tensorflow_hub as hub \n",
    "import tensorflow_datasets as tfds"
   ]
  },
  {
   "cell_type": "code",
   "execution_count": 32,
   "metadata": {},
   "outputs": [
    {
     "data": {
      "text/plain": [
       "'\\n\\ntrain_data,validation_data,test_data = tfds.load(\\n    name = \"imdb_reviews\",\\n    split=(\\'train[:60%]\\',\\'train[60%:]\\',\\'test\\'),\\n    as_supervised=True\\n)\\n'"
      ]
     },
     "execution_count": 32,
     "metadata": {},
     "output_type": "execute_result"
    }
   ],
   "source": [
    "\n",
    "from keras.datasets import imdb\n",
    "(x_train,y_train),(x_test,y_test) = imdb.load_data(path = \"imdb.npz\",\n",
    "num_words=10000,\n",
    "skip_top=0,\n",
    "maxlen=None,\n",
    "seed=113,\n",
    "start_char=1,\n",
    "oov_char=2,\n",
    "index_from=3)\n",
    "'''\n",
    "\n",
    "train_data,validation_data,test_data = tfds.load(\n",
    "    name = \"imdb_reviews\",\n",
    "    split=('train[:60%]','train[60%:]','test'),\n",
    "    as_supervised=True\n",
    ")\n",
    "'''"
   ]
  },
  {
   "cell_type": "code",
   "execution_count": 37,
   "metadata": {},
   "outputs": [
    {
     "name": "stdout",
     "output_type": "stream",
     "text": [
      "? this film was just brilliant casting location scenery story direction everyone's really suited the part they played and you could just imagine being there robert ? is an amazing actor and now the same being director ? father came from the same scottish island as myself so i loved the fact there was a real connection with this film the witty remarks throughout the film were great it was just brilliant so much that i bought the film as soon as it was released for ? and would recommend it to everyone to watch and the fly fishing was amazing really cried at the end it was so sad and you know what they say if you cry at a film it must have been good and this definitely was also ? to the two little boy's that played the ? of norman and paul they were just brilliant children are often left out of the ? list i think because the stars that play them all grown up are such a big profile for the whole film but these children are amazing and should be praised for what they have done don't you think the whole story was so lovely because it was true and was someone's life after all that was shared with us all\n"
     ]
    }
   ],
   "source": [
    "word_index = imdb.get_word_index()\n",
    "# We reverse it, mapping integer indices to words\n",
    "reverse_word_index = dict([(value, key) for (key, value) in word_index.items()])\n",
    "# We decode the review; note that our indices were offset by 3\n",
    "# because 0, 1 and 2 are reserved indices for \"padding\", \"start of sequence\", and \"unknown\".\n",
    "decoded_review = ' '.join([reverse_word_index.get(i - 3, '?') for i in x_train[0]])\n",
    "print(decoded_review)"
   ]
  },
  {
   "cell_type": "code",
   "execution_count": 33,
   "metadata": {},
   "outputs": [],
   "source": [
    "import numpy as np \n",
    "\n",
    "def one_hot_encoder(sequences,dimension = 10000):\n",
    "    results = np.zeros((len(sequences),dimension))\n",
    "    for i,j in enumerate(sequences):\n",
    "        results[i,j] = 1.\n",
    "    return results"
   ]
  },
  {
   "cell_type": "code",
   "execution_count": 34,
   "metadata": {},
   "outputs": [],
   "source": [
    "OH_x_train = one_hot_encoder(x_train)\n",
    "OH_x_test = one_hot_encoder(x_test)"
   ]
  },
  {
   "cell_type": "code",
   "execution_count": null,
   "metadata": {},
   "outputs": [],
   "source": [
    "y_train_v = np.asarray(y_train).astype('float32')\n",
    "y_test_v = np.asarray(y_test).astype('float32')"
   ]
  },
  {
   "cell_type": "markdown",
   "metadata": {},
   "source": [
    "# use One-hot"
   ]
  },
  {
   "cell_type": "code",
   "execution_count": null,
   "metadata": {},
   "outputs": [],
   "source": [
    "from keras import models\n",
    "from keras import layers\n",
    "\n",
    "model = models.Sequential()\n",
    "model.reset_states()\n",
    "\n",
    "model.add(layers.Dense(16,activation='relu'))\n",
    "model.add(layers.Dense(1,activation = 'sigmoid'))\n",
    "model.build(input_shape=(None,10000))\n",
    "model.summary()"
   ]
  },
  {
   "cell_type": "markdown",
   "metadata": {},
   "source": [
    "# use keras.Embedding"
   ]
  },
  {
   "cell_type": "code",
   "execution_count": 54,
   "metadata": {},
   "outputs": [
    {
     "name": "stdout",
     "output_type": "stream",
     "text": [
      "[   0    0    0    0    0    0    0    0    0    0    0    0    0    0\n",
      "    0    0    0    0    0    0    0    0    0    0    0    0    0    0\n",
      "    0    0    0    0    0    0    0    0    0    0    0    0    0    0\n",
      "    0    0    0    0    0    0    0    0    0    0    0    0    0    0\n",
      "    0    0    0    0    0    0    0    0    0    0    0    0    0    0\n",
      "    0    0    0    0    0    0    0    0    0    0    0    0    0    0\n",
      "    0    0    0    0    0    0    0    0    0    0    0    0    0    0\n",
      "    0    0    0    0    0    0    0    0    0    0    0    0    0    0\n",
      "    0    0    0    0    0    0    0    0    0    0    0    0    0    0\n",
      "    0    0    0    0    0    0    0    0    0    0    0    0    0    0\n",
      "    0    0    0    0    0    0    0    0    0    0    0    0    0    0\n",
      "    0    0    0    0    0    0    0    0    0    0    0    0    0    0\n",
      "    0    0    0    0    0    0    0    0    0    0    0    0    0    0\n",
      "    1   14   22   16   43  530  973 1622 1385   65  458 4468   66 3941\n",
      "    4  173   36  256    5   25  100   43  838  112   50  670    2    9\n",
      "   35  480  284    5  150    4  172  112  167    2  336  385   39    4\n",
      "  172 4536 1111   17  546   38   13  447    4  192   50   16    6  147\n",
      " 2025   19   14   22    4 1920 4613  469    4   22   71   87   12   16\n",
      "   43  530   38   76   15   13 1247    4   22   17  515   17   12   16\n",
      "  626   18    2    5   62  386   12    8  316    8  106    5    4 2223\n",
      " 5244   16  480   66 3785   33    4  130   12   16   38  619    5   25\n",
      "  124   51   36  135   48   25 1415   33    6   22   12  215   28   77\n",
      "   52    5   14  407   16   82    2    8    4  107  117 5952   15  256\n",
      "    4    2    7 3766    5  723   36   71   43  530  476   26  400  317\n",
      "   46    7    4    2 1029   13  104   88    4  381   15  297   98   32\n",
      " 2071   56   26  141    6  194 7486   18    4  226   22   21  134  476\n",
      "   26  480    5  144   30 5535   18   51   36   28  224   92   25  104\n",
      "    4  226   65   16   38 1334   88   12   16  283    5   16 4472  113\n",
      "  103   32   15   16 5345   19  178   32] len is  400\n",
      "10000\n",
      "Model: \"sequential_18\"\n",
      "_________________________________________________________________\n",
      "Layer (type)                 Output Shape              Param #   \n",
      "=================================================================\n",
      "embedding_12 (Embedding)     (None, 400, 64)           640000    \n",
      "_________________________________________________________________\n",
      "flatten_8 (Flatten)          (None, 25600)             0         \n",
      "_________________________________________________________________\n",
      "dense_68 (Dense)             (None, 500)               12800500  \n",
      "_________________________________________________________________\n",
      "dense_69 (Dense)             (None, 500)               250500    \n",
      "_________________________________________________________________\n",
      "dense_70 (Dense)             (None, 200)               100200    \n",
      "_________________________________________________________________\n",
      "dense_71 (Dense)             (None, 50)                10050     \n",
      "_________________________________________________________________\n",
      "dense_72 (Dense)             (None, 1)                 51        \n",
      "=================================================================\n",
      "Total params: 13,801,301\n",
      "Trainable params: 13,801,301\n",
      "Non-trainable params: 0\n",
      "_________________________________________________________________\n",
      "None\n"
     ]
    }
   ],
   "source": [
    "from keras.preprocessing import sequence\n",
    "maxword = 400 \n",
    "x_train_embedding = sequence.pad_sequences(x_train,maxlen=maxword)\n",
    "x_test_embedding = sequence.pad_sequences(x_test,maxlen=maxword)\n",
    "print(x_train_embedding[0],\"len is \",x_test_embedding[0].size)\n",
    "vocab_size = np.max([np.max(x_train_embedding[i]) for i in range(x_train_embedding.shape[0])]) + 1\n",
    "\n",
    "print(vocab_size)\n",
    "model = models.Sequential()\n",
    "model.add(layers.Embedding(10000,64,input_length=400))\n",
    "model.add(layers.Flatten())\n",
    "model.add(layers.Dense(500,activation='relu'))\n",
    "model.add(layers.Dense(500,activation='relu'))\n",
    "model.add(layers.Dense(200,activation='relu'))\n",
    "model.add(layers.Dense(50,activation='relu'))\n",
    "model.add(layers.Dense(1,activation='sigmoid'))\n",
    "\n",
    "model.build(input_shape=(None,None))\n",
    "model.compile(loss = 'binary_crossentropy', optimizer = 'adam', metrics = ['accuracy']) \n",
    "print(model.summary())"
   ]
  },
  {
   "cell_type": "markdown",
   "metadata": {},
   "source": [
    "# function debug"
   ]
  },
  {
   "cell_type": "code",
   "execution_count": 75,
   "metadata": {},
   "outputs": [
    {
     "name": "stdout",
     "output_type": "stream",
     "text": [
      "tf.Tensor([   0.         0.         0.      1814.7472   675.80444], shape=(5,), dtype=float32)\n",
      "tf.Tensor(\n",
      "[[[ 0.0414828  -0.00782322  0.04545281 ...  0.02430797  0.01395101\n",
      "    0.04385335]\n",
      "  [ 0.0414828  -0.00782322  0.04545281 ...  0.02430797  0.01395101\n",
      "    0.04385335]\n",
      "  [ 0.0414828  -0.00782322  0.04545281 ...  0.02430797  0.01395101\n",
      "    0.04385335]\n",
      "  ...\n",
      "  [-0.02880007  0.02966877  0.03037177 ... -0.04263214  0.02245196\n",
      "   -0.00459393]\n",
      "  [-0.02051814  0.04834232 -0.02693894 ...  0.03683338 -0.00300021\n",
      "    0.04019381]\n",
      "  [-0.04048939 -0.03540147 -0.02649007 ... -0.04405376  0.01136283\n",
      "    0.04927928]]\n",
      "\n",
      " [[ 0.0414828  -0.00782322  0.04545281 ...  0.02430797  0.01395101\n",
      "    0.04385335]\n",
      "  [ 0.0414828  -0.00782322  0.04545281 ...  0.02430797  0.01395101\n",
      "    0.04385335]\n",
      "  [ 0.0414828  -0.00782322  0.04545281 ...  0.02430797  0.01395101\n",
      "    0.04385335]\n",
      "  ...\n",
      "  [-0.01547071 -0.02188306  0.00853214 ...  0.02104313  0.00354688\n",
      "   -0.00387905]\n",
      "  [ 0.02514884  0.02906739 -0.01452999 ...  0.02643001  0.01840624\n",
      "   -0.04943797]\n",
      "  [-0.00217837  0.00960217  0.02746025 ...  0.02969414  0.01375805\n",
      "    0.02439341]]\n",
      "\n",
      " [[ 0.0414828  -0.00782322  0.04545281 ...  0.02430797  0.01395101\n",
      "    0.04385335]\n",
      "  [ 0.0414828  -0.00782322  0.04545281 ...  0.02430797  0.01395101\n",
      "    0.04385335]\n",
      "  [ 0.0414828  -0.00782322  0.04545281 ...  0.02430797  0.01395101\n",
      "    0.04385335]\n",
      "  ...\n",
      "  [-0.00934739 -0.0427421   0.02043493 ...  0.02085115  0.0002897\n",
      "    0.04414913]\n",
      "  [-0.0359581   0.02237174  0.03957362 ...  0.0152645  -0.03774827\n",
      "   -0.04739957]\n",
      "  [ 0.04071102 -0.02806382  0.04690998 ...  0.02343983  0.03991915\n",
      "   -0.00796925]]\n",
      "\n",
      " [[ 0.00504389 -0.01880033  0.02561757 ...  0.03133019 -0.03620452\n",
      "   -0.01532868]\n",
      "  [-0.03233626 -0.00771271  0.03966396 ...  0.03298192 -0.01174872\n",
      "    0.00389628]\n",
      "  [ 0.01094823  0.04513863  0.03118085 ... -0.03933693 -0.01881118\n",
      "   -0.0096133 ]\n",
      "  ...\n",
      "  [-0.03988919 -0.01365963 -0.03548848 ...  0.03088386 -0.01637149\n",
      "   -0.04606124]\n",
      "  [ 0.01025412 -0.01084252 -0.02545741 ... -0.00623132 -0.04804106\n",
      "   -0.01839519]\n",
      "  [-0.02954504  0.02564636  0.02665291 ...  0.04783702  0.00727982\n",
      "    0.02066555]]\n",
      "\n",
      " [[ 0.0414828  -0.00782322  0.04545281 ...  0.02430797  0.01395101\n",
      "    0.04385335]\n",
      "  [ 0.0414828  -0.00782322  0.04545281 ...  0.02430797  0.01395101\n",
      "    0.04385335]\n",
      "  [ 0.0414828  -0.00782322  0.04545281 ...  0.02430797  0.01395101\n",
      "    0.04385335]\n",
      "  ...\n",
      "  [-0.00934739 -0.0427421   0.02043493 ...  0.02085115  0.0002897\n",
      "    0.04414913]\n",
      "  [ 0.0201699   0.04583034 -0.02904378 ... -0.02281029 -0.02663703\n",
      "    0.04439224]\n",
      "  [ 0.04071102 -0.02806382  0.04690998 ...  0.02343983  0.03991915\n",
      "   -0.00796925]]], shape=(5, 400, 64), dtype=float32)\n"
     ]
    }
   ],
   "source": [
    "import keras\n",
    "x1 = keras.layers.Input(shape=(None,400))\n",
    "layer2 = layers.Embedding(10000,64,input_length=400)\n",
    "layer3 = layers.Dense(5,activation='relu')\n",
    "inputs = tf.constant(x_train_embedding[:5])\n",
    "#print(inputs)\n",
    "yy = layer3(inputs)\n",
    "print(yy[0])\n",
    "yy = layer2(inputs)\n",
    "print(yy)"
   ]
  },
  {
   "cell_type": "code",
   "execution_count": 66,
   "metadata": {},
   "outputs": [],
   "source": [
    "from tensorflow.keras import layers\n",
    "\n",
    "x3 = layers.Dense(32, activation='relu')\n",
    "inputs = tf.random.uniform(shape=(10, 20))\n",
    "\n",
    "outputs = x3(inputs)"
   ]
  },
  {
   "cell_type": "code",
   "execution_count": 57,
   "metadata": {},
   "outputs": [
    {
     "name": "stdout",
     "output_type": "stream",
     "text": [
      "Epoch 1/20\n",
      "250/250 [==============================] - 24s 96ms/step - loss: 0.4120 - accuracy: 0.7846 - val_loss: 0.2927 - val_accuracy: 0.8790\n",
      "Epoch 2/20\n",
      "250/250 [==============================] - 24s 95ms/step - loss: 0.1023 - accuracy: 0.9656 - val_loss: 0.3909 - val_accuracy: 0.8603\n",
      "Epoch 3/20\n",
      "250/250 [==============================] - 24s 94ms/step - loss: 0.0144 - accuracy: 0.9953 - val_loss: 0.6244 - val_accuracy: 0.8519\n",
      "Epoch 4/20\n",
      "250/250 [==============================] - 24s 95ms/step - loss: 0.0142 - accuracy: 0.9950 - val_loss: 0.7206 - val_accuracy: 0.8588\n",
      "Epoch 5/20\n",
      "250/250 [==============================] - 24s 95ms/step - loss: 0.0096 - accuracy: 0.9971 - val_loss: 0.9261 - val_accuracy: 0.8462\n",
      "Epoch 6/20\n",
      "250/250 [==============================] - 24s 97ms/step - loss: 0.0083 - accuracy: 0.9970 - val_loss: 0.9915 - val_accuracy: 0.8548\n",
      "Epoch 7/20\n",
      "250/250 [==============================] - 24s 96ms/step - loss: 0.0065 - accuracy: 0.9980 - val_loss: 0.7676 - val_accuracy: 0.8560\n",
      "Epoch 8/20\n",
      "250/250 [==============================] - 25s 100ms/step - loss: 0.0078 - accuracy: 0.9975 - val_loss: 0.7733 - val_accuracy: 0.8505\n",
      "Epoch 9/20\n",
      "250/250 [==============================] - 25s 100ms/step - loss: 0.0047 - accuracy: 0.9985 - val_loss: 1.1378 - val_accuracy: 0.8501\n",
      "Epoch 10/20\n",
      "250/250 [==============================] - 27s 107ms/step - loss: 0.0052 - accuracy: 0.9983 - val_loss: 1.2004 - val_accuracy: 0.8480\n",
      "Epoch 11/20\n",
      "250/250 [==============================] - 24s 97ms/step - loss: 0.0068 - accuracy: 0.9975 - val_loss: 0.9327 - val_accuracy: 0.8495\n",
      "Epoch 12/20\n",
      "250/250 [==============================] - 25s 98ms/step - loss: 0.0112 - accuracy: 0.9960 - val_loss: 0.8450 - val_accuracy: 0.8487\n",
      "Epoch 13/20\n",
      "250/250 [==============================] - 25s 99ms/step - loss: 0.0054 - accuracy: 0.9978 - val_loss: 1.1357 - val_accuracy: 0.8352\n",
      "Epoch 14/20\n",
      "250/250 [==============================] - 25s 99ms/step - loss: 0.0019 - accuracy: 0.9995 - val_loss: 1.5330 - val_accuracy: 0.8466\n",
      "Epoch 15/20\n",
      "250/250 [==============================] - 25s 99ms/step - loss: 0.0047 - accuracy: 0.9982 - val_loss: 0.9556 - val_accuracy: 0.8436\n",
      "Epoch 16/20\n",
      "250/250 [==============================] - 25s 98ms/step - loss: 0.0075 - accuracy: 0.9976 - val_loss: 1.0980 - val_accuracy: 0.8442\n",
      "Epoch 17/20\n",
      "250/250 [==============================] - 25s 100ms/step - loss: 0.0034 - accuracy: 0.9989 - val_loss: 1.2585 - val_accuracy: 0.8478\n",
      "Epoch 18/20\n",
      "250/250 [==============================] - 25s 99ms/step - loss: 4.5158e-04 - accuracy: 1.0000 - val_loss: 2.3263 - val_accuracy: 0.8484\n",
      "Epoch 19/20\n",
      "250/250 [==============================] - 25s 98ms/step - loss: 3.2296e-05 - accuracy: 1.0000 - val_loss: 2.4204 - val_accuracy: 0.8480\n",
      "Epoch 20/20\n",
      "250/250 [==============================] - 25s 100ms/step - loss: 9.0117e-07 - accuracy: 1.0000 - val_loss: 2.5080 - val_accuracy: 0.8478\n",
      "782/782 [==============================] - 7s 9ms/step - loss: 2.5080 - accuracy: 0.8478\n"
     ]
    }
   ],
   "source": [
    "trainx = x_train_embedding\n",
    "trainy = y_train\n",
    "testx = x_test_embedding\n",
    "testy = y_test\n",
    "'''\n",
    "trainx = x_train.astype('float64')\n",
    "trainx = y_train.astype('float64')\n",
    "testx = x_test.astype('float64')\n",
    "testy = y_test.astype('float64')\n",
    "'''\n",
    "model.fit(trainx,trainy,validation_data=(testx,testy), epochs = 20,batch_size = 100, verbose = 1)\n",
    "score = model.evaluate(testx,testy)"
   ]
  },
  {
   "cell_type": "code",
   "execution_count": 76,
   "metadata": {},
   "outputs": [
    {
     "name": "stdout",
     "output_type": "stream",
     "text": [
      "[2.508011817932129, 0.847760021686554]\n"
     ]
    }
   ],
   "source": [
    "print(score)"
   ]
  }
 ],
 "metadata": {
  "kernelspec": {
   "display_name": "Python 3.8.2 64-bit",
   "language": "python",
   "name": "python38264bit5b96df470e0b46698216581227a23266"
  },
  "language_info": {
   "codemirror_mode": {
    "name": "ipython",
    "version": 3
   },
   "file_extension": ".py",
   "mimetype": "text/x-python",
   "name": "python",
   "nbconvert_exporter": "python",
   "pygments_lexer": "ipython3",
   "version": "3.8.2"
  }
 },
 "nbformat": 4,
 "nbformat_minor": 4
}
