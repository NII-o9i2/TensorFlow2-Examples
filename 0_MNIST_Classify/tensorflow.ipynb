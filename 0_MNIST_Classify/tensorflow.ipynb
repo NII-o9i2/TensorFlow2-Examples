{
 "cells": [
  {
   "cell_type": "code",
   "execution_count": 16,
   "metadata": {},
   "outputs": [],
   "source": [
    "import tensorflow as tf\n",
    "from tensorflow import keras\n",
    "from tensorflow.keras import layers\n"
   ]
  },
  {
   "cell_type": "code",
   "execution_count": 17,
   "metadata": {},
   "outputs": [
    {
     "data": {
      "text/plain": [
       "42"
      ]
     },
     "execution_count": 17,
     "metadata": {},
     "output_type": "execute_result"
    }
   ],
   "source": [
    "x = tf.Variable(3,name = \"x\")\n",
    "y = tf.Variable(4,name = \"y\")\n",
    "f = x*x*y + y +2\n",
    "sess = tf.compat.v1.Session()\n",
    "sess.run(x.initializer)\n",
    "sess.run(y.initializer)\n",
    "result = sess.run(f)\n",
    "result"
   ]
  },
  {
   "cell_type": "code",
   "execution_count": 90,
   "metadata": {},
   "outputs": [
    {
     "name": "stdout",
     "output_type": "stream",
     "text": [
      "2049 60000\n",
      "2051 60000 28 28\n"
     ]
    }
   ],
   "source": [
    "import numpy as np\n",
    "import struct\n",
    "import matplotlib.pyplot as plt\n",
    " \n",
    "filename = 'train-labels-idx1-ubyte'\n",
    "binfile = open(filename , 'rb')\n",
    "buf = binfile.read()\n",
    " \n",
    "index = 0\n",
    "magic, numLabel = struct.unpack_from('>II' , buf , index)\n",
    "print(magic,numLabel)\n",
    "index += struct.calcsize('>II')\n",
    "\n",
    "for ii in range(10000):\n",
    "    label = struct.unpack_from('>1B' ,buf, index)\n",
    "    index += struct.calcsize('>1B')\n",
    "    if ii == 0:\n",
    "        y_train = np.array(list(label))\n",
    "    else:\n",
    "        y_train = np.vstack([y_train,label])\n",
    "binfile.close()\n",
    "\n",
    "filename = 'train-images-idx3-ubyte'\n",
    "binfile = open(filename , 'rb')\n",
    "buf = binfile.read()\n",
    " \n",
    "index = 0\n",
    "magic, numImages , numRows , numColumns = struct.unpack_from('>IIII' , buf , index)\n",
    "print(magic,numImages,numRows,numColumns)\n",
    "index += struct.calcsize('>IIII')\n",
    "\n",
    "for ii in range(10000):\n",
    "    im = struct.unpack_from('>784B' ,buf, index)\n",
    "    index += struct.calcsize('>784B')\n",
    "    if ii == 0:\n",
    "        x_train = np.array(list(im))\n",
    "    else:\n",
    "        x_train = np.vstack([x_train,im])\n",
    "binfile.close()"
   ]
  },
  {
   "cell_type": "code",
   "execution_count": 91,
   "metadata": {},
   "outputs": [
    {
     "name": "stdout",
     "output_type": "stream",
     "text": [
      "2049 10000\n",
      "2051 10000 28 28\n"
     ]
    }
   ],
   "source": [
    "filename = 't10k-labels-idx1-ubyte'\n",
    "binfile = open(filename , 'rb')\n",
    "buf = binfile.read()\n",
    " \n",
    "index = 0\n",
    "magic, numLabel = struct.unpack_from('>II' , buf , index)\n",
    "print(magic,numLabel)\n",
    "index += struct.calcsize('>II')\n",
    "\n",
    "for ii in range(5000):\n",
    "    label = struct.unpack_from('>1B' ,buf, index)\n",
    "    index += struct.calcsize('>1B')\n",
    "    if ii == 0:\n",
    "        y_test = np.array(list(label))\n",
    "    else:\n",
    "        y_test = np.vstack([y_test,label])\n",
    "binfile.close()\n",
    "\n",
    "filename = 't10k-images-idx3-ubyte'\n",
    "binfile = open(filename , 'rb')\n",
    "buf = binfile.read()\n",
    " \n",
    "index = 0\n",
    "magic, numImages , numRows , numColumns = struct.unpack_from('>IIII' , buf , index)\n",
    "print(magic,numImages,numRows,numColumns)\n",
    "index += struct.calcsize('>IIII')\n",
    "\n",
    "for ii in range(5000):\n",
    "    im = struct.unpack_from('>784B' ,buf, index)\n",
    "    index += struct.calcsize('>784B')\n",
    "    if ii == 0:\n",
    "        x_test = np.array(list(im))\n",
    "    else:\n",
    "        x_test = np.vstack([x_test,im])\n",
    "binfile.close()"
   ]
  },
  {
   "cell_type": "code",
   "execution_count": 92,
   "metadata": {},
   "outputs": [],
   "source": [
    "#x_train"
   ]
  },
  {
   "cell_type": "code",
   "execution_count": 93,
   "metadata": {},
   "outputs": [],
   "source": [
    "#x_test"
   ]
  },
  {
   "cell_type": "code",
   "execution_count": 94,
   "metadata": {},
   "outputs": [
    {
     "data": {
      "image/png": "[encoded data removed]",
      "text/plain": [
       "<Figure size 432x288 with 1 Axes>"
      ]
     },
     "metadata": {
      "needs_background": "light"
     },
     "output_type": "display_data"
    },
    {
     "name": "stdout",
     "output_type": "stream",
     "text": [
      "[1]\n"
     ]
    }
   ],
   "source": [
    "def plotonedigtal(x_one,y_one):\n",
    "    im = np.array(x_one).reshape(28,28)\n",
    "    plt.imshow(im,'gray')\n",
    "    plt.show()\n",
    "    print(y_one)\n",
    "\n",
    "plotonedigtal(x_train[6],y_train[6])"
   ]
  },
  {
   "cell_type": "code",
   "execution_count": 95,
   "metadata": {},
   "outputs": [
    {
     "data": {
      "image/png": "[encoded data removed]",
      "text/plain": [
       "<Figure size 432x288 with 1 Axes>"
      ]
     },
     "metadata": {
      "needs_background": "light"
     },
     "output_type": "display_data"
    },
    {
     "name": "stdout",
     "output_type": "stream",
     "text": [
      "[9]\n"
     ]
    }
   ],
   "source": [
    "plotonedigtal(x_test[20],y_test[20])"
   ]
  },
  {
   "cell_type": "code",
   "execution_count": 96,
   "metadata": {},
   "outputs": [],
   "source": [
    "x_test_1 = x_test / 255.0\n",
    "x_train_1 = x_train / 255.0"
   ]
  },
  {
   "cell_type": "code",
   "execution_count": 97,
   "metadata": {},
   "outputs": [],
   "source": [
    "model = keras.Sequential([\n",
    "    #keras.layers.Flatten(input_shape=(28, 28)),\n",
    "    keras.layers.Dense(128, activation='relu'),\n",
    "    keras.layers.Dense(10, activation='softmax')\n",
    "])"
   ]
  },
  {
   "cell_type": "code",
   "execution_count": 98,
   "metadata": {},
   "outputs": [],
   "source": [
    "model.compile(optimizer='adam',\n",
    "              loss='sparse_categorical_crossentropy',\n",
    "              metrics=['accuracy'])"
   ]
  },
  {
   "cell_type": "code",
   "execution_count": 99,
   "metadata": {},
   "outputs": [
    {
     "name": "stdout",
     "output_type": "stream",
     "text": [
      "(5000, 784)\n",
      "(5000, 1)\n"
     ]
    }
   ],
   "source": [
    "print(x_test_1.shape)\n",
    "print(y_test.shape)"
   ]
  },
  {
   "cell_type": "code",
   "execution_count": 100,
   "metadata": {},
   "outputs": [
    {
     "name": "stdout",
     "output_type": "stream",
     "text": [
      "Train on 10000 samples\n",
      "Epoch 1/10\n",
      "10000/10000 [==============================] - 0s 20us/sample - loss: 0.5095 - accuracy: 0.8610\n",
      "Epoch 2/10\n",
      "10000/10000 [==============================] - 0s 20us/sample - loss: 0.2383 - accuracy: 0.9328\n",
      "Epoch 3/10\n",
      "10000/10000 [==============================] - 0s 20us/sample - loss: 0.1743 - accuracy: 0.9518\n",
      "Epoch 4/10\n",
      "10000/10000 [==============================] - 0s 20us/sample - loss: 0.1352 - accuracy: 0.9619\n",
      "Epoch 5/10\n",
      "10000/10000 [==============================] - 0s 20us/sample - loss: 0.1053 - accuracy: 0.9709\n",
      "Epoch 6/10\n",
      "10000/10000 [==============================] - 0s 20us/sample - loss: 0.0809 - accuracy: 0.9789\n",
      "Epoch 7/10\n",
      "10000/10000 [==============================] - 0s 20us/sample - loss: 0.0637 - accuracy: 0.9837\n",
      "Epoch 8/10\n",
      "10000/10000 [==============================] - 0s 20us/sample - loss: 0.0511 - accuracy: 0.9869\n",
      "Epoch 9/10\n",
      "10000/10000 [==============================] - 0s 20us/sample - loss: 0.0404 - accuracy: 0.9913\n",
      "Epoch 10/10\n",
      "10000/10000 [==============================] - 0s 20us/sample - loss: 0.0327 - accuracy: 0.9929\n"
     ]
    },
    {
     "data": {
      "text/plain": [
       "<tensorflow.python.keras.callbacks.History at 0x7f813efdb5b0>"
      ]
     },
     "execution_count": 100,
     "metadata": {},
     "output_type": "execute_result"
    }
   ],
   "source": [
    "x_train\n",
    "model.fit(x_train_1,y_train,epochs=10)"
   ]
  },
  {
   "cell_type": "code",
   "execution_count": 101,
   "metadata": {},
   "outputs": [
    {
     "name": "stdout",
     "output_type": "stream",
     "text": [
      "(10000, 784)\n",
      "(10000, 1)\n"
     ]
    }
   ],
   "source": [
    "print(x_train_1.shape)\n",
    "print(y_train.shape)"
   ]
  },
  {
   "cell_type": "code",
   "execution_count": 111,
   "metadata": {},
   "outputs": [
    {
     "data": {
      "text/plain": [
       "[0.22179638693034648, 0.9362]"
      ]
     },
     "execution_count": 111,
     "metadata": {},
     "output_type": "execute_result"
    }
   ],
   "source": [
    "model.evaluate(x_test_1,y_test,verbose=1)"
   ]
  },
  {
   "cell_type": "code",
   "execution_count": 102,
   "metadata": {},
   "outputs": [
    {
     "name": "stdout",
     "output_type": "stream",
     "text": [
      "\n",
      "Test accuracy: 0.9362\n"
     ]
    }
   ],
   "source": [
    "test_loss, test_acc = model.evaluate(x_test_1, y_test)\n",
    "print('\\nTest accuracy:', test_acc)"
   ]
  },
  {
   "cell_type": "code",
   "execution_count": 113,
   "metadata": {},
   "outputs": [
    {
     "data": {
      "image/png": "[encoded data removed]",
      "text/plain": [
       "<Figure size 432x288 with 1 Axes>"
      ]
     },
     "metadata": {
      "needs_background": "light"
     },
     "output_type": "display_data"
    },
    {
     "name": "stdout",
     "output_type": "stream",
     "text": [
      "[9]\n",
      "[1.1100819e-06 1.7367270e-07 3.0658736e-08 5.2850402e-05 5.9307113e-05\n",
      " 3.4780831e-05 7.9371015e-12 6.9122901e-03 4.5601711e-05 9.9289387e-01]\n"
     ]
    }
   ],
   "source": [
    "predictions = model.predict(x_test_1)\n",
    "\n",
    "plotonedigtal(x_test[20],y_test[20])\n",
    "print(predictions[20])"
   ]
  },
  {
   "cell_type": "code",
   "execution_count": 114,
   "metadata": {},
   "outputs": [],
   "source": [
    "probability_model = tf.keras.Sequential([\n",
    "    model,\n",
    "    tf.keras.layers.Softmax()\n",
    "])tiffany"
   ]
  },
  {
   "cell_type": "code",
   "execution_count": 117,
   "metadata": {},
   "outputs": [],
   "source": [
    "probability_model.compile()"
   ]
  },
  {
   "cell_type": "code",
   "execution_count": 119,
   "metadata": {},
   "outputs": [],
   "source": [
    "# probability_model(x_test_1[20])"
   ]
  },
  {
   "cell_type": "code",
   "execution_count": null,
   "metadata": {},
   "outputs": [],
   "source": []
  }
 ],
 "metadata": {
  "kernelspec": {
   "display_name": "Python 3",
   "language": "python",
   "name": "python3"
  },
  "language_info": {
   "codemirror_mode": {
    "name": "ipython",
    "version": 3
   },
   "file_extension": ".py",
   "mimetype": "text/x-python",
   "name": "python",
   "nbconvert_exporter": "python",
   "pygments_lexer": "ipython3",
   "version": "3.8.2"
  }
 },
 "nbformat": 4,
 "nbformat_minor": 4
}
