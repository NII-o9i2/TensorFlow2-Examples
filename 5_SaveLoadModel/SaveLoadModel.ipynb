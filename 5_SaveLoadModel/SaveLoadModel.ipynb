{
 "cells": [
  {
   "cell_type": "code",
   "execution_count": 6,
   "metadata": {},
   "outputs": [],
   "source": [
    "import tensorflow as tf\n",
    "from tensorflow import keras\n",
    "from tensorflow.keras import datasets, layers, models, callbacks\n",
    "from tensorflow.keras.datasets import mnist\n"
   ]
  },
  {
   "cell_type": "code",
   "execution_count": 7,
   "metadata": {},
   "outputs": [
    {
     "output_type": "stream",
     "name": "stdout",
     "text": "2049 60000\n2051 60000 28 28\n2049 10000\n2051 10000 28 28\n"
    }
   ],
   "source": [
    "import numpy as np\n",
    "import struct\n",
    "import matplotlib.pyplot as plt\n",
    " \n",
    "filename = 'train-labels-idx1-ubyte'\n",
    "binfile = open(filename , 'rb')\n",
    "buf = binfile.read()\n",
    " \n",
    "index = 0\n",
    "magic, numLabel = struct.unpack_from('>II' , buf , index)\n",
    "print(magic,numLabel)\n",
    "index += struct.calcsize('>II')\n",
    "\n",
    "for ii in range(10000):\n",
    "    label = struct.unpack_from('>1B' ,buf, index)\n",
    "    index += struct.calcsize('>1B')\n",
    "    if ii == 0:\n",
    "        y_train = np.array(list(label))\n",
    "    else:\n",
    "        y_train = np.vstack([y_train,label])\n",
    "binfile.close()\n",
    "\n",
    "filename = 'train-images-idx3-ubyte'\n",
    "binfile = open(filename , 'rb')\n",
    "buf = binfile.read()\n",
    " \n",
    "index = 0\n",
    "magic, numImages , numRows , numColumns = struct.unpack_from('>IIII' , buf , index)\n",
    "print(magic,numImages,numRows,numColumns)\n",
    "index += struct.calcsize('>IIII')\n",
    "\n",
    "for ii in range(10000):\n",
    "    im = struct.unpack_from('>784B' ,buf, index)\n",
    "    index += struct.calcsize('>784B')\n",
    "    if ii == 0:\n",
    "        x_train = np.array(list(im))\n",
    "    else:\n",
    "        x_train = np.vstack([x_train,im])\n",
    "binfile.close()\n",
    "filename = 't10k-labels-idx1-ubyte'\n",
    "binfile = open(filename , 'rb')\n",
    "buf = binfile.read()\n",
    " \n",
    "index = 0\n",
    "magic, numLabel = struct.unpack_from('>II' , buf , index)\n",
    "print(magic,numLabel)\n",
    "index += struct.calcsize('>II')\n",
    "\n",
    "for ii in range(5000):\n",
    "    label = struct.unpack_from('>1B' ,buf, index)\n",
    "    index += struct.calcsize('>1B')\n",
    "    if ii == 0:\n",
    "        y_test = np.array(list(label))\n",
    "    else:\n",
    "        y_test = np.vstack([y_test,label])\n",
    "binfile.close()\n",
    "\n",
    "filename = 't10k-images-idx3-ubyte'\n",
    "binfile = open(filename , 'rb')\n",
    "buf = binfile.read()\n",
    " \n",
    "index = 0\n",
    "magic, numImages , numRows , numColumns = struct.unpack_from('>IIII' , buf , index)\n",
    "print(magic,numImages,numRows,numColumns)\n",
    "index += struct.calcsize('>IIII')\n",
    "\n",
    "for ii in range(5000):\n",
    "    im = struct.unpack_from('>784B' ,buf, index)\n",
    "    index += struct.calcsize('>784B')\n",
    "    if ii == 0:\n",
    "        x_test = np.array(list(im))\n",
    "    else:\n",
    "        x_test = np.vstack([x_test,im])\n",
    "binfile.close()"
   ]
  },
  {
   "cell_type": "code",
   "execution_count": 10,
   "metadata": {},
   "outputs": [
    {
     "output_type": "execute_result",
     "data": {
      "text/plain": "(784,)"
     },
     "metadata": {},
     "execution_count": 10
    }
   ],
   "source": [
    "x_train[0].shape"
   ]
  },
  {
   "cell_type": "code",
   "execution_count": 11,
   "metadata": {},
   "outputs": [],
   "source": [
    "from keras import layers\n",
    "model = models.Sequential([\n",
    "    layers.Dense(512,activation='relu',input_shape= (784,)),\n",
    "    layers.Dropout(0.2),\n",
    "    layers.Dense(10,activation='softmax')\n",
    "])\n",
    "model.compile(optimizer='adam',metrics=['accuracy'],loss='sparse_categorical_crossentropy')"
   ]
  },
  {
   "cell_type": "code",
   "execution_count": 12,
   "metadata": {},
   "outputs": [
    {
     "output_type": "stream",
     "name": "stdout",
     "text": "Model: \"sequential\"\n_________________________________________________________________\nLayer (type)                 Output Shape              Param #   \n=================================================================\ndense (Dense)                (None, 512)               401920    \n_________________________________________________________________\ndropout (Dropout)            (None, 512)               0         \n_________________________________________________________________\ndense_1 (Dense)              (None, 10)                5130      \n=================================================================\nTotal params: 407,050\nTrainable params: 407,050\nNon-trainable params: 0\n_________________________________________________________________\n"
    }
   ],
   "source": [
    "model.summary()"
   ]
  },
  {
   "cell_type": "code",
   "execution_count": null,
   "metadata": {},
   "outputs": [],
   "source": []
  }
 ],
 "metadata": {
  "language_info": {
   "codemirror_mode": {
    "name": "ipython",
    "version": 3
   },
   "file_extension": ".py",
   "mimetype": "text/x-python",
   "name": "python",
   "nbconvert_exporter": "python",
   "pygments_lexer": "ipython3",
   "version": "3.8.2-final"
  },
  "orig_nbformat": 2,
  "kernelspec": {
   "name": "python38264bit5b96df470e0b46698216581227a23266",
   "display_name": "Python 3.8.2 64-bit"
  }
 },
 "nbformat": 4,
 "nbformat_minor": 2
}