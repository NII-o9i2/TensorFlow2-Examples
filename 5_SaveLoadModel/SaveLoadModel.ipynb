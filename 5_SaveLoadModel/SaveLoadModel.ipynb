{
 "cells": [
  {
   "cell_type": "code",
   "execution_count": 5,
   "metadata": {},
   "outputs": [],
   "source": [
    "import tensorflow as tf\n",
    "from tensorflow import keras\n",
    "from tensorflow.keras import datasets, layers, models, callbacks\n",
    "from tensorflow.keras.datasets import mnist\n"
   ]
  },
  {
   "cell_type": "code",
   "execution_count": 6,
   "metadata": {},
   "outputs": [
    {
     "output_type": "stream",
     "name": "stdout",
     "text": "2049 60000\n2051 60000 28 28\n2049 10000\n2051 10000 28 28\n"
    }
   ],
   "source": [
    "import numpy as np\n",
    "import struct\n",
    "import matplotlib.pyplot as plt\n",
    " \n",
    "filename = 'train-labels-idx1-ubyte'\n",
    "binfile = open(filename , 'rb')\n",
    "buf = binfile.read()\n",
    " \n",
    "index = 0\n",
    "magic, numLabel = struct.unpack_from('>II' , buf , index)\n",
    "print(magic,numLabel)\n",
    "index += struct.calcsize('>II')\n",
    "\n",
    "for ii in range(10000):\n",
    "    label = struct.unpack_from('>1B' ,buf, index)\n",
    "    index += struct.calcsize('>1B')\n",
    "    if ii == 0:\n",
    "        y_train = np.array(list(label))\n",
    "    else:\n",
    "        y_train = np.vstack([y_train,label])\n",
    "binfile.close()\n",
    "\n",
    "filename = 'train-images-idx3-ubyte'\n",
    "binfile = open(filename , 'rb')\n",
    "buf = binfile.read()\n",
    " \n",
    "index = 0\n",
    "magic, numImages , numRows , numColumns = struct.unpack_from('>IIII' , buf , index)\n",
    "print(magic,numImages,numRows,numColumns)\n",
    "index += struct.calcsize('>IIII')\n",
    "\n",
    "for ii in range(10000):\n",
    "    im = struct.unpack_from('>784B' ,buf, index)\n",
    "    index += struct.calcsize('>784B')\n",
    "    if ii == 0:\n",
    "        x_train = np.array(list(im))\n",
    "    else:\n",
    "        x_train = np.vstack([x_train,im])\n",
    "binfile.close()\n",
    "filename = 't10k-labels-idx1-ubyte'\n",
    "binfile = open(filename , 'rb')\n",
    "buf = binfile.read()\n",
    " \n",
    "index = 0\n",
    "magic, numLabel = struct.unpack_from('>II' , buf , index)\n",
    "print(magic,numLabel)\n",
    "index += struct.calcsize('>II')\n",
    "\n",
    "for ii in range(5000):\n",
    "    label = struct.unpack_from('>1B' ,buf, index)\n",
    "    index += struct.calcsize('>1B')\n",
    "    if ii == 0:\n",
    "        y_test = np.array(list(label))\n",
    "    else:\n",
    "        y_test = np.vstack([y_test,label])\n",
    "binfile.close()\n",
    "\n",
    "filename = 't10k-images-idx3-ubyte'\n",
    "binfile = open(filename , 'rb')\n",
    "buf = binfile.read()\n",
    " \n",
    "index = 0\n",
    "magic, numImages , numRows , numColumns = struct.unpack_from('>IIII' , buf , index)\n",
    "print(magic,numImages,numRows,numColumns)\n",
    "index += struct.calcsize('>IIII')\n",
    "\n",
    "for ii in range(5000):\n",
    "    im = struct.unpack_from('>784B' ,buf, index)\n",
    "    index += struct.calcsize('>784B')\n",
    "    if ii == 0:\n",
    "        x_test = np.array(list(im))\n",
    "    else:\n",
    "        x_test = np.vstack([x_test,im])\n",
    "binfile.close()"
   ]
  },
  {
   "cell_type": "code",
   "execution_count": 19,
   "metadata": {},
   "outputs": [
    {
     "output_type": "execute_result",
     "data": {
      "text/plain": "(10000, 784)"
     },
     "metadata": {},
     "execution_count": 19
    }
   ],
   "source": [
    "x_train.shape"
   ]
  },
  {
   "cell_type": "code",
   "execution_count": 20,
   "metadata": {},
   "outputs": [],
   "source": [
    "from keras import layers\n",
    "model = models.Sequential([\n",
    "    layers.Dense(512,activation='relu',input_shape= (784,)),\n",
    "    layers.Dropout(0.2),\n",
    "    layers.Dense(10,activation='softmax')\n",
    "])\n",
    "model.compile(optimizer='adam',metrics=['accuracy'],loss='sparse_categorical_crossentropy')"
   ]
  },
  {
   "cell_type": "code",
   "execution_count": 9,
   "metadata": {},
   "outputs": [
    {
     "output_type": "stream",
     "name": "stdout",
     "text": "Model: \"sequential\"\n_________________________________________________________________\nLayer (type)                 Output Shape              Param #   \n=================================================================\ndense (Dense)                (None, 512)               401920    \n_________________________________________________________________\ndropout (Dropout)            (None, 512)               0         \n_________________________________________________________________\ndense_1 (Dense)              (None, 10)                5130      \n=================================================================\nTotal params: 407,050\nTrainable params: 407,050\nNon-trainable params: 0\n_________________________________________________________________\n"
    }
   ],
   "source": [
    "model.summary()"
   ]
  },
  {
   "cell_type": "code",
   "execution_count": 10,
   "metadata": {},
   "outputs": [],
   "source": [
    "def evaluate(target_model):\n",
    "    _,acc = target_model.evaluate(x_test,y_test)\n",
    "    return acc"
   ]
  },
  {
   "cell_type": "markdown",
   "metadata": {},
   "source": [
    "# Save Checkpoints"
   ]
  },
  {
   "cell_type": "code",
   "execution_count": 28,
   "metadata": {},
   "outputs": [
    {
     "output_type": "stream",
     "name": "stdout",
     "text": "CheckPoints\n"
    }
   ],
   "source": [
    "import os\n",
    "checkpoint_path = \"CheckPoints/cp-{epoch:04d}.ckpt\"\n",
    "checkpoint_dir = os.path.dirname(checkpoint_path)\n",
    "print(os.path.dirname(checkpoint_path))\n",
    "cp_callback = callbacks.ModelCheckpoint(checkpoint_path,verbose=1,save_weights_only=True,save_freq= 10)"
   ]
  },
  {
   "cell_type": "code",
   "execution_count": 14,
   "metadata": {},
   "outputs": [],
   "source": [
    "model.save_weights(checkpoint_path.format(epoch=0))"
   ]
  },
  {
   "cell_type": "code",
   "execution_count": 21,
   "metadata": {
    "tags": [
     "outputPrepend",
     "outputPrepend",
     "outputPrepend",
     "outputPrepend",
     "outputPrepend",
     "outputPrepend",
     "outputPrepend",
     "outputPrepend",
     "outputPrepend",
     "outputPrepend",
     "outputPrepend",
     "outputPrepend",
     "outputPrepend",
     "outputPrepend",
     "outputPrepend",
     "outputPrepend",
     "outputPrepend",
     "outputPrepend",
     "outputPrepend",
     "outputPrepend",
     "outputPrepend",
     "outputPrepend",
     "outputPrepend",
     "outputPrepend",
     "outputPrepend",
     "outputPrepend",
     "outputPrepend",
     "outputPrepend",
     "outputPrepend",
     "outputPrepend",
     "outputPrepend",
     "outputPrepend",
     "outputPrepend",
     "outputPrepend",
     "outputPrepend",
     "outputPrepend",
     "outputPrepend",
     "outputPrepend",
     "outputPrepend",
     "outputPrepend",
     "outputPrepend",
     "outputPrepend",
     "outputPrepend",
     "outputPrepend",
     "outputPrepend",
     "outputPrepend",
     "outputPrepend",
     "outputPrepend",
     "outputPrepend",
     "outputPrepend",
     "outputPrepend",
     "outputPrepend",
     "outputPrepend",
     "outputPrepend",
     "outputPrepend",
     "outputPrepend",
     "outputPrepend",
     "outputPrepend",
     "outputPrepend",
     "outputPrepend",
     "outputPrepend",
     "outputPrepend",
     "outputPrepend",
     "outputPrepend",
     "outputPrepend",
     "outputPrepend",
     "outputPrepend",
     "outputPrepend",
     "outputPrepend",
     "outputPrepend",
     "outputPrepend",
     "outputPrepend",
     "outputPrepend",
     "outputPrepend",
     "outputPrepend",
     "outputPrepend",
     "outputPrepend",
     "outputPrepend",
     "outputPrepend",
     "outputPrepend",
     "outputPrepend",
     "outputPrepend",
     "outputPrepend",
     "outputPrepend",
     "outputPrepend",
     "outputPrepend",
     "outputPrepend",
     "outputPrepend",
     "outputPrepend",
     "outputPrepend",
     "outputPrepend",
     "outputPrepend",
     "outputPrepend",
     "outputPrepend",
     "outputPrepend",
     "outputPrepend",
     "outputPrepend",
     "outputPrepend",
     "outputPrepend",
     "outputPrepend",
     "outputPrepend",
     "outputPrepend",
     "outputPrepend",
     "outputPrepend",
     "outputPrepend",
     "outputPrepend",
     "outputPrepend",
     "outputPrepend",
     "outputPrepend",
     "outputPrepend",
     "outputPrepend",
     "outputPrepend",
     "outputPrepend",
     "outputPrepend",
     "outputPrepend",
     "outputPrepend",
     "outputPrepend",
     "outputPrepend",
     "outputPrepend",
     "outputPrepend",
     "outputPrepend",
     "outputPrepend",
     "outputPrepend",
     "outputPrepend",
     "outputPrepend",
     "outputPrepend",
     "outputPrepend",
     "outputPrepend",
     "outputPrepend",
     "outputPrepend",
     "outputPrepend",
     "outputPrepend",
     "outputPrepend",
     "outputPrepend",
     "outputPrepend",
     "outputPrepend",
     "outputPrepend",
     "outputPrepend",
     "outputPrepend",
     "outputPrepend",
     "outputPrepend",
     "outputPrepend",
     "outputPrepend",
     "outputPrepend",
     "outputPrepend",
     "outputPrepend",
     "outputPrepend",
     "outputPrepend",
     "outputPrepend",
     "outputPrepend",
     "outputPrepend",
     "outputPrepend",
     "outputPrepend",
     "outputPrepend",
     "outputPrepend",
     "outputPrepend",
     "outputPrepend",
     "outputPrepend",
     "outputPrepend",
     "outputPrepend",
     "outputPrepend",
     "outputPrepend",
     "outputPrepend",
     "outputPrepend",
     "outputPrepend",
     "outputPrepend",
     "outputPrepend",
     "outputPrepend",
     "outputPrepend",
     "outputPrepend",
     "outputPrepend",
     "outputPrepend",
     "outputPrepend",
     "outputPrepend",
     "outputPrepend",
     "outputPrepend",
     "outputPrepend",
     "outputPrepend",
     "outputPrepend",
     "outputPrepend",
     "outputPrepend",
     "outputPrepend",
     "outputPrepend",
     "outputPrepend",
     "outputPrepend",
     "outputPrepend",
     "outputPrepend",
     "outputPrepend",
     "outputPrepend",
     "outputPrepend",
     "outputPrepend",
     "outputPrepend",
     "outputPrepend",
     "outputPrepend",
     "outputPrepend",
     "outputPrepend",
     "outputPrepend",
     "outputPrepend",
     "outputPrepend",
     "outputPrepend",
     "outputPrepend",
     "outputPrepend",
     "outputPrepend",
     "outputPrepend",
     "outputPrepend",
     "outputPrepend",
     "outputPrepend",
     "outputPrepend",
     "outputPrepend",
     "outputPrepend",
     "outputPrepend",
     "outputPrepend",
     "outputPrepend",
     "outputPrepend",
     "outputPrepend",
     "outputPrepend",
     "outputPrepend",
     "outputPrepend",
     "outputPrepend",
     "outputPrepend",
     "outputPrepend",
     "outputPrepend",
     "outputPrepend",
     "outputPrepend",
     "outputPrepend",
     "outputPrepend",
     "outputPrepend",
     "outputPrepend",
     "outputPrepend",
     "outputPrepend",
     "outputPrepend",
     "outputPrepend",
     "outputPrepend",
     "outputPrepend",
     "outputPrepend",
     "outputPrepend",
     "outputPrepend",
     "outputPrepend",
     "outputPrepend",
     "outputPrepend",
     "outputPrepend",
     "outputPrepend",
     "outputPrepend",
     "outputPrepend",
     "outputPrepend",
     "outputPrepend",
     "outputPrepend",
     "outputPrepend",
     "outputPrepend",
     "outputPrepend",
     "outputPrepend",
     "outputPrepend",
     "outputPrepend",
     "outputPrepend",
     "outputPrepend",
     "outputPrepend",
     "outputPrepend",
     "outputPrepend",
     "outputPrepend",
     "outputPrepend",
     "outputPrepend",
     "outputPrepend",
     "outputPrepend",
     "outputPrepend",
     "outputPrepend",
     "outputPrepend",
     "outputPrepend",
     "outputPrepend",
     "outputPrepend",
     "outputPrepend",
     "outputPrepend",
     "outputPrepend",
     "outputPrepend",
     "outputPrepend",
     "outputPrepend",
     "outputPrepend",
     "outputPrepend",
     "outputPrepend",
     "outputPrepend",
     "outputPrepend",
     "outputPrepend",
     "outputPrepend",
     "outputPrepend",
     "outputPrepend",
     "outputPrepend",
     "outputPrepend",
     "outputPrepend",
     "outputPrepend",
     "outputPrepend",
     "outputPrepend",
     "outputPrepend",
     "outputPrepend",
     "outputPrepend",
     "outputPrepend",
     "outputPrepend",
     "outputPrepend",
     "outputPrepend",
     "outputPrepend",
     "outputPrepend",
     "outputPrepend",
     "outputPrepend",
     "outputPrepend",
     "outputPrepend",
     "outputPrepend",
     "outputPrepend",
     "outputPrepend",
     "outputPrepend",
     "outputPrepend",
     "outputPrepend",
     "outputPrepend",
     "outputPrepend",
     "outputPrepend",
     "outputPrepend",
     "outputPrepend",
     "outputPrepend",
     "outputPrepend",
     "outputPrepend",
     "outputPrepend",
     "outputPrepend"
    ]
   },
   "outputs": [
    {
     "output_type": "stream",
     "name": "stdout",
     "text": " model to CheckPoints/cp-0039.ckpt\n\nEpoch 00039: saving model to CheckPoints/cp-0039.ckpt\n\nEpoch 00039: saving model to CheckPoints/cp-0039.ckpt\n\nEpoch 00039: saving model to CheckPoints/cp-0039.ckpt\n\nEpoch 00039: saving model to CheckPoints/cp-0039.ckpt\n\nEpoch 00039: saving model to CheckPoints/cp-0039.ckpt\n\nEpoch 00039: saving model to CheckPoints/cp-0039.ckpt\n\nEpoch 00039: saving model to CheckPoints/cp-0039.ckpt\n\nEpoch 00039: saving model to CheckPoints/cp-0039.ckpt\n\nEpoch 00039: saving model to CheckPoints/cp-0039.ckpt\n\nEpoch 00039: saving model to CheckPoints/cp-0039.ckpt\n\nEpoch 00039: saving model to CheckPoints/cp-0039.ckpt\n\nEpoch 00039: saving model to CheckPoints/cp-0039.ckpt\n\nEpoch 00039: saving model to CheckPoints/cp-0039.ckpt\n\nEpoch 00039: saving model to CheckPoints/cp-0039.ckpt\n\nEpoch 00039: saving model to CheckPoints/cp-0039.ckpt\n\nEpoch 00039: saving model to CheckPoints/cp-0039.ckpt\n\nEpoch 00039: saving model to CheckPoints/cp-0039.ckpt\n\nEpoch 00039: saving model to CheckPoints/cp-0039.ckpt\n\nEpoch 00039: saving model to CheckPoints/cp-0039.ckpt\n\nEpoch 00040: saving model to CheckPoints/cp-0040.ckpt\n\nEpoch 00040: saving model to CheckPoints/cp-0040.ckpt\n\nEpoch 00040: saving model to CheckPoints/cp-0040.ckpt\n\nEpoch 00040: saving model to CheckPoints/cp-0040.ckpt\n\nEpoch 00040: saving model to CheckPoints/cp-0040.ckpt\n\nEpoch 00040: saving model to CheckPoints/cp-0040.ckpt\n\nEpoch 00040: saving model to CheckPoints/cp-0040.ckpt\n\nEpoch 00040: saving model to CheckPoints/cp-0040.ckpt\n\nEpoch 00040: saving model to CheckPoints/cp-0040.ckpt\n\nEpoch 00040: saving model to CheckPoints/cp-0040.ckpt\n\nEpoch 00040: saving model to CheckPoints/cp-0040.ckpt\n\nEpoch 00040: saving model to CheckPoints/cp-0040.ckpt\n\nEpoch 00040: saving model to CheckPoints/cp-0040.ckpt\n\nEpoch 00040: saving model to CheckPoints/cp-0040.ckpt\n\nEpoch 00040: saving model to CheckPoints/cp-0040.ckpt\n\nEpoch 00040: saving model to CheckPoints/cp-0040.ckpt\n\nEpoch 00040: saving model to CheckPoints/cp-0040.ckpt\n\nEpoch 00040: saving model to CheckPoints/cp-0040.ckpt\n\nEpoch 00040: saving model to CheckPoints/cp-0040.ckpt\n\nEpoch 00040: saving model to CheckPoints/cp-0040.ckpt\n\nEpoch 00040: saving model to CheckPoints/cp-0040.ckpt\n\nEpoch 00040: saving model to CheckPoints/cp-0040.ckpt\n\nEpoch 00040: saving model to CheckPoints/cp-0040.ckpt\n\nEpoch 00040: saving model to CheckPoints/cp-0040.ckpt\n\nEpoch 00040: saving model to CheckPoints/cp-0040.ckpt\n\nEpoch 00040: saving model to CheckPoints/cp-0040.ckpt\n\nEpoch 00040: saving model to CheckPoints/cp-0040.ckpt\n\nEpoch 00040: saving model to CheckPoints/cp-0040.ckpt\n\nEpoch 00040: saving model to CheckPoints/cp-0040.ckpt\n\nEpoch 00040: saving model to CheckPoints/cp-0040.ckpt\n\nEpoch 00040: saving model to CheckPoints/cp-0040.ckpt\n\nEpoch 00041: saving model to CheckPoints/cp-0041.ckpt\n\nEpoch 00041: saving model to CheckPoints/cp-0041.ckpt\n\nEpoch 00041: saving model to CheckPoints/cp-0041.ckpt\n\nEpoch 00041: saving model to CheckPoints/cp-0041.ckpt\n\nEpoch 00041: saving model to CheckPoints/cp-0041.ckpt\n\nEpoch 00041: saving model to CheckPoints/cp-0041.ckpt\n\nEpoch 00041: saving model to CheckPoints/cp-0041.ckpt\n\nEpoch 00041: saving model to CheckPoints/cp-0041.ckpt\n\nEpoch 00041: saving model to CheckPoints/cp-0041.ckpt\n\nEpoch 00041: saving model to CheckPoints/cp-0041.ckpt\n\nEpoch 00041: saving model to CheckPoints/cp-0041.ckpt\n\nEpoch 00041: saving model to CheckPoints/cp-0041.ckpt\n\nEpoch 00041: saving model to CheckPoints/cp-0041.ckpt\n\nEpoch 00041: saving model to CheckPoints/cp-0041.ckpt\n\nEpoch 00041: saving model to CheckPoints/cp-0041.ckpt\n\nEpoch 00041: saving model to CheckPoints/cp-0041.ckpt\n\nEpoch 00041: saving model to CheckPoints/cp-0041.ckpt\n\nEpoch 00041: saving model to CheckPoints/cp-0041.ckpt\n\nEpoch 00041: saving model to CheckPoints/cp-0041.ckpt\n\nEpoch 00041: saving model to CheckPoints/cp-0041.ckpt\n\nEpoch 00041: saving model to CheckPoints/cp-0041.ckpt\n\nEpoch 00041: saving model to CheckPoints/cp-0041.ckpt\n\nEpoch 00041: saving model to CheckPoints/cp-0041.ckpt\n\nEpoch 00041: saving model to CheckPoints/cp-0041.ckpt\n\nEpoch 00041: saving model to CheckPoints/cp-0041.ckpt\n\nEpoch 00041: saving model to CheckPoints/cp-0041.ckpt\n\nEpoch 00041: saving model to CheckPoints/cp-0041.ckpt\n\nEpoch 00041: saving model to CheckPoints/cp-0041.ckpt\n\nEpoch 00041: saving model to CheckPoints/cp-0041.ckpt\n\nEpoch 00041: saving model to CheckPoints/cp-0041.ckpt\n\nEpoch 00041: saving model to CheckPoints/cp-0041.ckpt\n\nEpoch 00042: saving model to CheckPoints/cp-0042.ckpt\n\nEpoch 00042: saving model to CheckPoints/cp-0042.ckpt\n\nEpoch 00042: saving model to CheckPoints/cp-0042.ckpt\n\nEpoch 00042: saving model to CheckPoints/cp-0042.ckpt\n\nEpoch 00042: saving model to CheckPoints/cp-0042.ckpt\n\nEpoch 00042: saving model to CheckPoints/cp-0042.ckpt\n\nEpoch 00042: saving model to CheckPoints/cp-0042.ckpt\n\nEpoch 00042: saving model to CheckPoints/cp-0042.ckpt\n\nEpoch 00042: saving model to CheckPoints/cp-0042.ckpt\n\nEpoch 00042: saving model to CheckPoints/cp-0042.ckpt\n\nEpoch 00042: saving model to CheckPoints/cp-0042.ckpt\n\nEpoch 00042: saving model to CheckPoints/cp-0042.ckpt\n\nEpoch 00042: saving model to CheckPoints/cp-0042.ckpt\n\nEpoch 00042: saving model to CheckPoints/cp-0042.ckpt\n\nEpoch 00042: saving model to CheckPoints/cp-0042.ckpt\n\nEpoch 00042: saving model to CheckPoints/cp-0042.ckpt\n\nEpoch 00042: saving model to CheckPoints/cp-0042.ckpt\n\nEpoch 00042: saving model to CheckPoints/cp-0042.ckpt\n\nEpoch 00042: saving model to CheckPoints/cp-0042.ckpt\n\nEpoch 00042: saving model to CheckPoints/cp-0042.ckpt\n\nEpoch 00042: saving model to CheckPoints/cp-0042.ckpt\n\nEpoch 00042: saving model to CheckPoints/cp-0042.ckpt\n\nEpoch 00042: saving model to CheckPoints/cp-0042.ckpt\n\nEpoch 00042: saving model to CheckPoints/cp-0042.ckpt\n\nEpoch 00042: saving model to CheckPoints/cp-0042.ckpt\n\nEpoch 00042: saving model to CheckPoints/cp-0042.ckpt\n\nEpoch 00042: saving model to CheckPoints/cp-0042.ckpt\n\nEpoch 00042: saving model to CheckPoints/cp-0042.ckpt\n\nEpoch 00042: saving model to CheckPoints/cp-0042.ckpt\n\nEpoch 00042: saving model to CheckPoints/cp-0042.ckpt\n\nEpoch 00042: saving model to CheckPoints/cp-0042.ckpt\n\nEpoch 00042: saving model to CheckPoints/cp-0042.ckpt\n\nEpoch 00043: saving model to CheckPoints/cp-0043.ckpt\n\nEpoch 00043: saving model to CheckPoints/cp-0043.ckpt\n\nEpoch 00043: saving model to CheckPoints/cp-0043.ckpt\n\nEpoch 00043: saving model to CheckPoints/cp-0043.ckpt\n\nEpoch 00043: saving model to CheckPoints/cp-0043.ckpt\n\nEpoch 00043: saving model to CheckPoints/cp-0043.ckpt\n\nEpoch 00043: saving model to CheckPoints/cp-0043.ckpt\n\nEpoch 00043: saving model to CheckPoints/cp-0043.ckpt\n\nEpoch 00043: saving model to CheckPoints/cp-0043.ckpt\n\nEpoch 00043: saving model to CheckPoints/cp-0043.ckpt\n\nEpoch 00043: saving model to CheckPoints/cp-0043.ckpt\n\nEpoch 00043: saving model to CheckPoints/cp-0043.ckpt\n\nEpoch 00043: saving model to CheckPoints/cp-0043.ckpt\n\nEpoch 00043: saving model to CheckPoints/cp-0043.ckpt\n\nEpoch 00043: saving model to CheckPoints/cp-0043.ckpt\n\nEpoch 00043: saving model to CheckPoints/cp-0043.ckpt\n\nEpoch 00043: saving model to CheckPoints/cp-0043.ckpt\n\nEpoch 00043: saving model to CheckPoints/cp-0043.ckpt\n\nEpoch 00043: saving model to CheckPoints/cp-0043.ckpt\n\nEpoch 00043: saving model to CheckPoints/cp-0043.ckpt\n\nEpoch 00043: saving model to CheckPoints/cp-0043.ckpt\n\nEpoch 00043: saving model to CheckPoints/cp-0043.ckpt\n\nEpoch 00043: saving model to CheckPoints/cp-0043.ckpt\n\nEpoch 00043: saving model to CheckPoints/cp-0043.ckpt\n\nEpoch 00043: saving model to CheckPoints/cp-0043.ckpt\n\nEpoch 00043: saving model to CheckPoints/cp-0043.ckpt\n\nEpoch 00043: saving model to CheckPoints/cp-0043.ckpt\n\nEpoch 00043: saving model to CheckPoints/cp-0043.ckpt\n\nEpoch 00043: saving model to CheckPoints/cp-0043.ckpt\n\nEpoch 00043: saving model to CheckPoints/cp-0043.ckpt\n\nEpoch 00043: saving model to CheckPoints/cp-0043.ckpt\n\nEpoch 00044: saving model to CheckPoints/cp-0044.ckpt\n\nEpoch 00044: saving model to CheckPoints/cp-0044.ckpt\n\nEpoch 00044: saving model to CheckPoints/cp-0044.ckpt\n\nEpoch 00044: saving model to CheckPoints/cp-0044.ckpt\n\nEpoch 00044: saving model to CheckPoints/cp-0044.ckpt\n\nEpoch 00044: saving model to CheckPoints/cp-0044.ckpt\n\nEpoch 00044: saving model to CheckPoints/cp-0044.ckpt\n\nEpoch 00044: saving model to CheckPoints/cp-0044.ckpt\n\nEpoch 00044: saving model to CheckPoints/cp-0044.ckpt\n\nEpoch 00044: saving model to CheckPoints/cp-0044.ckpt\n\nEpoch 00044: saving model to CheckPoints/cp-0044.ckpt\n\nEpoch 00044: saving model to CheckPoints/cp-0044.ckpt\n\nEpoch 00044: saving model to CheckPoints/cp-0044.ckpt\n\nEpoch 00044: saving model to CheckPoints/cp-0044.ckpt\n\nEpoch 00044: saving model to CheckPoints/cp-0044.ckpt\n\nEpoch 00044: saving model to CheckPoints/cp-0044.ckpt\n\nEpoch 00044: saving model to CheckPoints/cp-0044.ckpt\n\nEpoch 00044: saving model to CheckPoints/cp-0044.ckpt\n\nEpoch 00044: saving model to CheckPoints/cp-0044.ckpt\n\nEpoch 00044: saving model to CheckPoints/cp-0044.ckpt\n\nEpoch 00044: saving model to CheckPoints/cp-0044.ckpt\n\nEpoch 00044: saving model to CheckPoints/cp-0044.ckpt\n\nEpoch 00044: saving model to CheckPoints/cp-0044.ckpt\n\nEpoch 00044: saving model to CheckPoints/cp-0044.ckpt\n\nEpoch 00044: saving model to CheckPoints/cp-0044.ckpt\n\nEpoch 00044: saving model to CheckPoints/cp-0044.ckpt\n\nEpoch 00044: saving model to CheckPoints/cp-0044.ckpt\n\nEpoch 00044: saving model to CheckPoints/cp-0044.ckpt\n\nEpoch 00044: saving model to CheckPoints/cp-0044.ckpt\n\nEpoch 00044: saving model to CheckPoints/cp-0044.ckpt\n\nEpoch 00044: saving model to CheckPoints/cp-0044.ckpt\n\nEpoch 00045: saving model to CheckPoints/cp-0045.ckpt\n\nEpoch 00045: saving model to CheckPoints/cp-0045.ckpt\n\nEpoch 00045: saving model to CheckPoints/cp-0045.ckpt\n\nEpoch 00045: saving model to CheckPoints/cp-0045.ckpt\n\nEpoch 00045: saving model to CheckPoints/cp-0045.ckpt\n\nEpoch 00045: saving model to CheckPoints/cp-0045.ckpt\n\nEpoch 00045: saving model to CheckPoints/cp-0045.ckpt\n\nEpoch 00045: saving model to CheckPoints/cp-0045.ckpt\n\nEpoch 00045: saving model to CheckPoints/cp-0045.ckpt\n\nEpoch 00045: saving model to CheckPoints/cp-0045.ckpt\n\nEpoch 00045: saving model to CheckPoints/cp-0045.ckpt\n\nEpoch 00045: saving model to CheckPoints/cp-0045.ckpt\n\nEpoch 00045: saving model to CheckPoints/cp-0045.ckpt\n\nEpoch 00045: saving model to CheckPoints/cp-0045.ckpt\n\nEpoch 00045: saving model to CheckPoints/cp-0045.ckpt\n\nEpoch 00045: saving model to CheckPoints/cp-0045.ckpt\n\nEpoch 00045: saving model to CheckPoints/cp-0045.ckpt\n\nEpoch 00045: saving model to CheckPoints/cp-0045.ckpt\n\nEpoch 00045: saving model to CheckPoints/cp-0045.ckpt\n\nEpoch 00045: saving model to CheckPoints/cp-0045.ckpt\n\nEpoch 00045: saving model to CheckPoints/cp-0045.ckpt\n\nEpoch 00045: saving model to CheckPoints/cp-0045.ckpt\n\nEpoch 00045: saving model to CheckPoints/cp-0045.ckpt\n\nEpoch 00045: saving model to CheckPoints/cp-0045.ckpt\n\nEpoch 00045: saving model to CheckPoints/cp-0045.ckpt\n\nEpoch 00045: saving model to CheckPoints/cp-0045.ckpt\n\nEpoch 00045: saving model to CheckPoints/cp-0045.ckpt\n\nEpoch 00045: saving model to CheckPoints/cp-0045.ckpt\n\nEpoch 00045: saving model to CheckPoints/cp-0045.ckpt\n\nEpoch 00045: saving model to CheckPoints/cp-0045.ckpt\n\nEpoch 00045: saving model to CheckPoints/cp-0045.ckpt\n\nEpoch 00045: saving model to CheckPoints/cp-0045.ckpt\n\nEpoch 00046: saving model to CheckPoints/cp-0046.ckpt\n\nEpoch 00046: saving model to CheckPoints/cp-0046.ckpt\n\nEpoch 00046: saving model to CheckPoints/cp-0046.ckpt\n\nEpoch 00046: saving model to CheckPoints/cp-0046.ckpt\n\nEpoch 00046: saving model to CheckPoints/cp-0046.ckpt\n\nEpoch 00046: saving model to CheckPoints/cp-0046.ckpt\n\nEpoch 00046: saving model to CheckPoints/cp-0046.ckpt\n\nEpoch 00046: saving model to CheckPoints/cp-0046.ckpt\n\nEpoch 00046: saving model to CheckPoints/cp-0046.ckpt\n\nEpoch 00046: saving model to CheckPoints/cp-0046.ckpt\n\nEpoch 00046: saving model to CheckPoints/cp-0046.ckpt\n\nEpoch 00046: saving model to CheckPoints/cp-0046.ckpt\n\nEpoch 00046: saving model to CheckPoints/cp-0046.ckpt\n\nEpoch 00046: saving model to CheckPoints/cp-0046.ckpt\n\nEpoch 00046: saving model to CheckPoints/cp-0046.ckpt\n\nEpoch 00046: saving model to CheckPoints/cp-0046.ckpt\n\nEpoch 00046: saving model to CheckPoints/cp-0046.ckpt\n\nEpoch 00046: saving model to CheckPoints/cp-0046.ckpt\n\nEpoch 00046: saving model to CheckPoints/cp-0046.ckpt\n\nEpoch 00046: saving model to CheckPoints/cp-0046.ckpt\n\nEpoch 00046: saving model to CheckPoints/cp-0046.ckpt\n\nEpoch 00046: saving model to CheckPoints/cp-0046.ckpt\n\nEpoch 00046: saving model to CheckPoints/cp-0046.ckpt\n\nEpoch 00046: saving model to CheckPoints/cp-0046.ckpt\n\nEpoch 00046: saving model to CheckPoints/cp-0046.ckpt\n\nEpoch 00046: saving model to CheckPoints/cp-0046.ckpt\n\nEpoch 00046: saving model to CheckPoints/cp-0046.ckpt\n\nEpoch 00046: saving model to CheckPoints/cp-0046.ckpt\n\nEpoch 00046: saving model to CheckPoints/cp-0046.ckpt\n\nEpoch 00046: saving model to CheckPoints/cp-0046.ckpt\n\nEpoch 00046: saving model to CheckPoints/cp-0046.ckpt\n\nEpoch 00047: saving model to CheckPoints/cp-0047.ckpt\n\nEpoch 00047: saving model to CheckPoints/cp-0047.ckpt\n\nEpoch 00047: saving model to CheckPoints/cp-0047.ckpt\n\nEpoch 00047: saving model to CheckPoints/cp-0047.ckpt\n\nEpoch 00047: saving model to CheckPoints/cp-0047.ckpt\n\nEpoch 00047: saving model to CheckPoints/cp-0047.ckpt\n\nEpoch 00047: saving model to CheckPoints/cp-0047.ckpt\n\nEpoch 00047: saving model to CheckPoints/cp-0047.ckpt\n\nEpoch 00047: saving model to CheckPoints/cp-0047.ckpt\n\nEpoch 00047: saving model to CheckPoints/cp-0047.ckpt\n\nEpoch 00047: saving model to CheckPoints/cp-0047.ckpt\n\nEpoch 00047: saving model to CheckPoints/cp-0047.ckpt\n\nEpoch 00047: saving model to CheckPoints/cp-0047.ckpt\n\nEpoch 00047: saving model to CheckPoints/cp-0047.ckpt\n\nEpoch 00047: saving model to CheckPoints/cp-0047.ckpt\n\nEpoch 00047: saving model to CheckPoints/cp-0047.ckpt\n\nEpoch 00047: saving model to CheckPoints/cp-0047.ckpt\n\nEpoch 00047: saving model to CheckPoints/cp-0047.ckpt\n\nEpoch 00047: saving model to CheckPoints/cp-0047.ckpt\n\nEpoch 00047: saving model to CheckPoints/cp-0047.ckpt\n\nEpoch 00047: saving model to CheckPoints/cp-0047.ckpt\n\nEpoch 00047: saving model to CheckPoints/cp-0047.ckpt\n\nEpoch 00047: saving model to CheckPoints/cp-0047.ckpt\n\nEpoch 00047: saving model to CheckPoints/cp-0047.ckpt\n\nEpoch 00047: saving model to CheckPoints/cp-0047.ckpt\n\nEpoch 00047: saving model to CheckPoints/cp-0047.ckpt\n\nEpoch 00047: saving model to CheckPoints/cp-0047.ckpt\n\nEpoch 00047: saving model to CheckPoints/cp-0047.ckpt\n\nEpoch 00047: saving model to CheckPoints/cp-0047.ckpt\n\nEpoch 00047: saving model to CheckPoints/cp-0047.ckpt\n\nEpoch 00047: saving model to CheckPoints/cp-0047.ckpt\n\nEpoch 00048: saving model to CheckPoints/cp-0048.ckpt\n\nEpoch 00048: saving model to CheckPoints/cp-0048.ckpt\n\nEpoch 00048: saving model to CheckPoints/cp-0048.ckpt\n\nEpoch 00048: saving model to CheckPoints/cp-0048.ckpt\n\nEpoch 00048: saving model to CheckPoints/cp-0048.ckpt\n\nEpoch 00048: saving model to CheckPoints/cp-0048.ckpt\n\nEpoch 00048: saving model to CheckPoints/cp-0048.ckpt\n\nEpoch 00048: saving model to CheckPoints/cp-0048.ckpt\n\nEpoch 00048: saving model to CheckPoints/cp-0048.ckpt\n\nEpoch 00048: saving model to CheckPoints/cp-0048.ckpt\n\nEpoch 00048: saving model to CheckPoints/cp-0048.ckpt\n\nEpoch 00048: saving model to CheckPoints/cp-0048.ckpt\n\nEpoch 00048: saving model to CheckPoints/cp-0048.ckpt\n\nEpoch 00048: saving model to CheckPoints/cp-0048.ckpt\n\nEpoch 00048: saving model to CheckPoints/cp-0048.ckpt\n\nEpoch 00048: saving model to CheckPoints/cp-0048.ckpt\n\nEpoch 00048: saving model to CheckPoints/cp-0048.ckpt\n\nEpoch 00048: saving model to CheckPoints/cp-0048.ckpt\n\nEpoch 00048: saving model to CheckPoints/cp-0048.ckpt\n\nEpoch 00048: saving model to CheckPoints/cp-0048.ckpt\n\nEpoch 00048: saving model to CheckPoints/cp-0048.ckpt\n\nEpoch 00048: saving model to CheckPoints/cp-0048.ckpt\n\nEpoch 00048: saving model to CheckPoints/cp-0048.ckpt\n\nEpoch 00048: saving model to CheckPoints/cp-0048.ckpt\n\nEpoch 00048: saving model to CheckPoints/cp-0048.ckpt\n\nEpoch 00048: saving model to CheckPoints/cp-0048.ckpt\n\nEpoch 00048: saving model to CheckPoints/cp-0048.ckpt\n\nEpoch 00048: saving model to CheckPoints/cp-0048.ckpt\n\nEpoch 00048: saving model to CheckPoints/cp-0048.ckpt\n\nEpoch 00048: saving model to CheckPoints/cp-0048.ckpt\n\nEpoch 00048: saving model to CheckPoints/cp-0048.ckpt\n\nEpoch 00048: saving model to CheckPoints/cp-0048.ckpt\n\nEpoch 00049: saving model to CheckPoints/cp-0049.ckpt\n\nEpoch 00049: saving model to CheckPoints/cp-0049.ckpt\n\nEpoch 00049: saving model to CheckPoints/cp-0049.ckpt\n\nEpoch 00049: saving model to CheckPoints/cp-0049.ckpt\n\nEpoch 00049: saving model to CheckPoints/cp-0049.ckpt\n\nEpoch 00049: saving model to CheckPoints/cp-0049.ckpt\n\nEpoch 00049: saving model to CheckPoints/cp-0049.ckpt\n\nEpoch 00049: saving model to CheckPoints/cp-0049.ckpt\n\nEpoch 00049: saving model to CheckPoints/cp-0049.ckpt\n\nEpoch 00049: saving model to CheckPoints/cp-0049.ckpt\n\nEpoch 00049: saving model to CheckPoints/cp-0049.ckpt\n\nEpoch 00049: saving model to CheckPoints/cp-0049.ckpt\n\nEpoch 00049: saving model to CheckPoints/cp-0049.ckpt\n\nEpoch 00049: saving model to CheckPoints/cp-0049.ckpt\n\nEpoch 00049: saving model to CheckPoints/cp-0049.ckpt\n\nEpoch 00049: saving model to CheckPoints/cp-0049.ckpt\n\nEpoch 00049: saving model to CheckPoints/cp-0049.ckpt\n\nEpoch 00049: saving model to CheckPoints/cp-0049.ckpt\n\nEpoch 00049: saving model to CheckPoints/cp-0049.ckpt\n\nEpoch 00049: saving model to CheckPoints/cp-0049.ckpt\n\nEpoch 00049: saving model to CheckPoints/cp-0049.ckpt\n\nEpoch 00049: saving model to CheckPoints/cp-0049.ckpt\n\nEpoch 00049: saving model to CheckPoints/cp-0049.ckpt\n\nEpoch 00049: saving model to CheckPoints/cp-0049.ckpt\n\nEpoch 00049: saving model to CheckPoints/cp-0049.ckpt\n\nEpoch 00049: saving model to CheckPoints/cp-0049.ckpt\n\nEpoch 00049: saving model to CheckPoints/cp-0049.ckpt\n\nEpoch 00049: saving model to CheckPoints/cp-0049.ckpt\n\nEpoch 00049: saving model to CheckPoints/cp-0049.ckpt\n\nEpoch 00049: saving model to CheckPoints/cp-0049.ckpt\n\nEpoch 00049: saving model to CheckPoints/cp-0049.ckpt\n\nEpoch 00050: saving model to CheckPoints/cp-0050.ckpt\n\nEpoch 00050: saving model to CheckPoints/cp-0050.ckpt\n\nEpoch 00050: saving model to CheckPoints/cp-0050.ckpt\n\nEpoch 00050: saving model to CheckPoints/cp-0050.ckpt\n\nEpoch 00050: saving model to CheckPoints/cp-0050.ckpt\n\nEpoch 00050: saving model to CheckPoints/cp-0050.ckpt\n\nEpoch 00050: saving model to CheckPoints/cp-0050.ckpt\n\nEpoch 00050: saving model to CheckPoints/cp-0050.ckpt\n\nEpoch 00050: saving model to CheckPoints/cp-0050.ckpt\n\nEpoch 00050: saving model to CheckPoints/cp-0050.ckpt\n\nEpoch 00050: saving model to CheckPoints/cp-0050.ckpt\n\nEpoch 00050: saving model to CheckPoints/cp-0050.ckpt\n\nEpoch 00050: saving model to CheckPoints/cp-0050.ckpt\n\nEpoch 00050: saving model to CheckPoints/cp-0050.ckpt\n\nEpoch 00050: saving model to CheckPoints/cp-0050.ckpt\n\nEpoch 00050: saving model to CheckPoints/cp-0050.ckpt\n\nEpoch 00050: saving model to CheckPoints/cp-0050.ckpt\n\nEpoch 00050: saving model to CheckPoints/cp-0050.ckpt\n\nEpoch 00050: saving model to CheckPoints/cp-0050.ckpt\n\nEpoch 00050: saving model to CheckPoints/cp-0050.ckpt\n\nEpoch 00050: saving model to CheckPoints/cp-0050.ckpt\n\nEpoch 00050: saving model to CheckPoints/cp-0050.ckpt\n\nEpoch 00050: saving model to CheckPoints/cp-0050.ckpt\n\nEpoch 00050: saving model to CheckPoints/cp-0050.ckpt\n\nEpoch 00050: saving model to CheckPoints/cp-0050.ckpt\n\nEpoch 00050: saving model to CheckPoints/cp-0050.ckpt\n\nEpoch 00050: saving model to CheckPoints/cp-0050.ckpt\n\nEpoch 00050: saving model to CheckPoints/cp-0050.ckpt\n\nEpoch 00050: saving model to CheckPoints/cp-0050.ckpt\n\nEpoch 00050: saving model to CheckPoints/cp-0050.ckpt\n\nEpoch 00050: saving model to CheckPoints/cp-0050.ckpt\n"
    },
    {
     "output_type": "execute_result",
     "data": {
      "text/plain": "<tensorflow.python.keras.callbacks.History at 0x7f063c15f340>"
     },
     "metadata": {},
     "execution_count": 21
    }
   ],
   "source": [
    "model.fit(x_train,y_train,epochs=50,callbacks=[cp_callback],validation_data=(x_test,y_test),verbose=0)"
   ]
  },
  {
   "cell_type": "code",
   "execution_count": 25,
   "metadata": {},
   "outputs": [
    {
     "output_type": "execute_result",
     "data": {
      "text/plain": "[<tf.Variable 'dense_4/kernel:0' shape=(784, 512) dtype=float32, numpy=\n array([[-0.06112225, -0.04991626,  0.0638985 , ..., -0.05200978,\n          0.04860543,  0.05558617],\n        [-0.02373032,  0.04674341, -0.01070252, ..., -0.02393224,\n          0.02293156,  0.05734757],\n        [-0.01554946, -0.00721699, -0.01305792, ..., -0.03048572,\n          0.02599899,  0.03565741],\n        ...,\n        [ 0.06432995,  0.05064917,  0.01892324, ...,  0.06158799,\n         -0.01781737, -0.018666  ],\n        [ 0.04309671,  0.00369897, -0.01067887, ..., -0.04879709,\n          0.02248716, -0.00259392],\n        [-0.01979022,  0.05032884,  0.01102728, ..., -0.00672696,\n         -0.05731683,  0.02007256]], dtype=float32)>,\n <tf.Variable 'dense_4/bias:0' shape=(512,) dtype=float32, numpy=\n array([-0.01741302,  0.05524104, -0.0172956 , -0.00976468, -0.00351338,\n        -0.06363378,  0.00309112, -0.0124237 , -0.09735736, -0.02648429,\n        -0.04262289,  0.0101248 , -0.03623094, -0.05316623, -0.04658864,\n         0.01041011,  0.03667092, -0.03300397,  0.0070992 ,  0.00094718,\n        -0.02847477, -0.02039333, -0.0274699 , -0.02533396, -0.01733342,\n        -0.01482359, -0.02761576, -0.02606589, -0.1379353 , -0.02005328,\n        -0.04473687, -0.09309642, -0.00753581, -0.04597538, -0.04753407,\n        -0.03350938,  0.00412558, -0.02102037, -0.03664667, -0.02332509,\n        -0.05415734, -0.06401829, -0.02469895,  0.00428932, -0.02509487,\n        -0.03995152, -0.01367678, -0.09857611, -0.0156314 , -0.0234684 ,\n         0.004395  , -0.06555619, -0.03681585, -0.03727162, -0.04440081,\n        -0.04325049, -0.05418425, -0.06737177, -0.03916039, -0.00280963,\n         0.01172032,  0.00032019,  0.01387918, -0.02381718, -0.03563647,\n        -0.10448068, -0.03123649, -0.01640423, -0.03426702, -0.07146777,\n        -0.02217285, -0.01274627,  0.01557708, -0.05143303, -0.05233508,\n        -0.12693067, -0.11321375, -0.02840266, -0.07945452, -0.03488665,\n        -0.07135978, -0.04906322, -0.08641635, -0.03447224, -0.01562594,\n        -0.03769058, -0.01856178, -0.16169754, -0.02741897, -0.02042036,\n         0.02011452, -0.13771328, -0.02246669, -0.05294086,  0.00109833,\n        -0.02820306, -0.04844407, -0.08831566, -0.12745558, -0.0329763 ,\n        -0.06625091, -0.02354169, -0.03084086, -0.05961768, -0.01836186,\n        -0.05941548, -0.0875161 , -0.09712166, -0.00690726, -0.01562172,\n        -0.02910412,  0.05167796, -0.08750289, -0.0487451 , -0.02741712,\n        -0.03366863, -0.02180106, -0.03713844, -0.02674953, -0.06002127,\n        -0.0244605 , -0.09286544, -0.05292635,  0.00326714, -0.05007656,\n        -0.0168489 , -0.02967024, -0.01165664, -0.0253224 , -0.0332525 ,\n        -0.04575862, -0.02330469, -0.03009104, -0.01944978, -0.04480321,\n        -0.02291528, -0.07400841, -0.0329087 , -0.01265509, -0.12011728,\n        -0.04914006, -0.04104633, -0.0560501 ,  0.01129052, -0.02286713,\n        -0.02973645, -0.09432943, -0.08701132, -0.02062843, -0.01749165,\n        -0.03778445, -0.06686057, -0.04025454, -0.01698033, -0.0614576 ,\n         0.02533991, -0.00694348, -0.14420076, -0.03965614, -0.07421281,\n        -0.02677568, -0.01586301, -0.01305621, -0.02922875, -0.04727118,\n        -0.02242281, -0.04818586, -0.07035775,  0.00657895, -0.01970454,\n        -0.03273155, -0.04919524, -0.03154865, -0.0506695 , -0.02567082,\n        -0.02063392, -0.00341386, -0.0643646 , -0.04622455, -0.02046935,\n        -0.018191  , -0.01012906, -0.01396732, -0.01431086, -0.04260363,\n        -0.08280428, -0.02011473, -0.03456291, -0.02363499,  0.02272898,\n        -0.01229454, -0.11981281, -0.02824326, -0.01192966, -0.03922259,\n        -0.03317283, -0.04812852, -0.03821649, -0.06987639, -0.04342136,\n        -0.0237749 , -0.06177459, -0.01843449, -0.01762195, -0.0119377 ,\n        -0.03922687,  0.00242716, -0.04746369, -0.08213898, -0.04186743,\n        -0.00918505, -0.1148854 , -0.07455279, -0.06298569, -0.0182694 ,\n        -0.05096898, -0.0230507 , -0.04204672, -0.01000198, -0.00510582,\n        -0.04316814, -0.06306358, -0.04441177, -0.07971904, -0.03202769,\n        -0.01143256, -0.05063754, -0.01458198,  0.01544359, -0.02817601,\n        -0.09002159, -0.0282071 , -0.05278486, -0.02621221,  0.03262889,\n        -0.03426202, -0.01639764, -0.03492527,  0.01463987, -0.04960741,\n        -0.04216397, -0.0893645 , -0.00744663, -0.01775083, -0.02088042,\n         0.03212646, -0.02317492, -0.00474657, -0.02858241, -0.04666227,\n        -0.01878786, -0.02797826, -0.05294039, -0.08758039, -0.01991488,\n        -0.0226588 , -0.0260846 , -0.01281039, -0.05434032, -0.07350886,\n        -0.05707583, -0.0138299 ,  0.00235708, -0.03314623, -0.06296356,\n        -0.09451778, -0.02012109, -0.0311334 , -0.0869683 , -0.0591578 ,\n        -0.04889287, -0.05345626, -0.01478256, -0.03799619, -0.03121418,\n        -0.04396986, -0.02555341, -0.02411914, -0.04214624, -0.01654419,\n        -0.07102904, -0.04967919, -0.06297408, -0.01430893, -0.1485852 ,\n        -0.0152777 , -0.04991594, -0.03533112, -0.02581875, -0.05018011,\n        -0.02681924, -0.0298    , -0.03365173,  0.00101144,  0.03608001,\n        -0.0160697 , -0.07135235, -0.02225343, -0.05141643, -0.04622594,\n        -0.05389551, -0.04413106, -0.01259721, -0.02096925, -0.08045743,\n         0.00644705, -0.03183391, -0.01750455, -0.08795211,  0.01871505,\n        -0.06692611, -0.01588926, -0.07549521, -0.04338541, -0.01967473,\n        -0.07039473, -0.0825047 , -0.11738213,  0.03930579, -0.0301941 ,\n        -0.05486059, -0.04935188, -0.01278914, -0.02409681, -0.0013194 ,\n        -0.06101688, -0.07590095, -0.03349233,  0.0298423 , -0.04823521,\n        -0.00896182, -0.04983258, -0.06259015, -0.01637486, -0.05702559,\n        -0.07890754, -0.03286303, -0.04189354,  0.02530993, -0.03302716,\n        -0.14366509, -0.0745025 , -0.05045918, -0.04361039, -0.07661209,\n        -0.03516078, -0.03212509, -0.05554651, -0.02870187,  0.02042788,\n         0.00377423, -0.07177414, -0.06116518,  0.00456714, -0.05288685,\n        -0.03733062, -0.05804773, -0.01428511, -0.04104334, -0.06821811,\n        -0.02293951, -0.02622734, -0.02728042, -0.14713764, -0.03137299,\n        -0.02771834, -0.00984886, -0.03330142, -0.03943515, -0.03274138,\n        -0.0652417 , -0.02754945, -0.07125574, -0.06904539, -0.03258426,\n        -0.04594621, -0.03606956, -0.01576109, -0.01162452, -0.08434124,\n        -0.00788188, -0.02037275, -0.16292644, -0.02475266, -0.02872254,\n        -0.05235846, -0.04260652, -0.05261871, -0.02914511, -0.01494358,\n        -0.01201319, -0.04115991, -0.0392672 , -0.03220386, -0.02663332,\n        -0.11216736, -0.06007158, -0.01692561, -0.03319359, -0.0967726 ,\n        -0.01402176, -0.02430729, -0.09735905, -0.02737417, -0.02924339,\n        -0.01987875, -0.01019657, -0.04171473, -0.02065118, -0.02825266,\n        -0.01152732, -0.01690467, -0.06468195, -0.04914893, -0.02768814,\n        -0.03816327, -0.0224613 , -0.11954033, -0.06292817, -0.01113243,\n        -0.02989016, -0.02461519, -0.05773811, -0.01856607, -0.07264034,\n         0.02572256, -0.04780779, -0.02525859, -0.04921441, -0.01606779,\n        -0.08178145, -0.04001139, -0.01482397, -0.04973126, -0.03870497,\n        -0.02447978, -0.1018477 , -0.08504947, -0.01886407, -0.02352003,\n        -0.09547845, -0.05162384, -0.04053696, -0.0332275 , -0.08265416,\n        -0.07795876, -0.04394982, -0.01823747, -0.10031158, -0.04530696,\n         0.02203931, -0.01275696, -0.08171624, -0.06024946, -0.04753185,\n        -0.0336212 , -0.04016317, -0.03653966,  0.0003388 , -0.05296647,\n         0.00017826, -0.09049834, -0.05239269,  0.00563578, -0.09940861,\n        -0.00238643, -0.05496672,  0.04469159, -0.0220371 , -0.00909011,\n        -0.05593736, -0.02908679,  0.02276525, -0.02561946, -0.0135998 ,\n        -0.03319275,  0.00348119,  0.00903872, -0.02157869, -0.05653322,\n        -0.03792009, -0.04614352, -0.03842416, -0.02316917, -0.07999771,\n        -0.04757269, -0.02966252, -0.03809829, -0.00785484, -0.02525198,\n        -0.04786176, -0.08471983, -0.02258756, -0.02862288, -0.01392315,\n        -0.06849313, -0.03249713,  0.02135777, -0.00833865, -0.08180006,\n        -0.01666089, -0.02290684, -0.10064608, -0.0502851 , -0.05448466,\n        -0.02497483, -0.00672803, -0.03445192,  0.0101475 , -0.03492293,\n        -0.07049889, -0.03702372], dtype=float32)>,\n <tf.Variable 'dense_5/kernel:0' shape=(512, 10) dtype=float32, numpy=\n array([[ 0.03790298, -0.0655635 ,  0.07116698, ...,  0.00952153,\n          0.08281718, -0.07144974],\n        [-0.04877533,  0.00810946,  0.00903211, ..., -0.20517002,\n          0.01546481,  0.07080855],\n        [ 0.02333963,  0.09808933,  0.12399317, ...,  0.01504312,\n          0.02907447, -0.06080211],\n        ...,\n        [-0.12528235,  0.08183179,  0.02426313, ..., -0.02000462,\n          0.11250684, -0.01126586],\n        [-0.05816336,  0.11283453, -0.05651937, ...,  0.07547411,\n         -0.02615988, -0.00233794],\n        [ 0.06582124,  0.03149536, -0.02755181, ..., -0.04971439,\n          0.04089409,  0.0867883 ]], dtype=float32)>,\n <tf.Variable 'dense_5/bias:0' shape=(10,) dtype=float32, numpy=\n array([ 0.3012457 , -0.2593188 , -0.32244796, -0.06893678, -0.30030173,\n        -0.6002543 , -0.5353809 , -0.74484915,  1.674967  ,  0.1564865 ],\n       dtype=float32)>]"
     },
     "metadata": {},
     "execution_count": 25
    }
   ],
   "source": [
    "model.weights"
   ]
  },
  {
   "cell_type": "code",
   "execution_count": 29,
   "metadata": {},
   "outputs": [],
   "source": [
    "latest = tf.train.latest_checkpoint(checkpoint_dir)\n",
    "model2 = models.Sequential([\n",
    "    layers.Dense(512,activation='relu',input_shape= (784,)),\n",
    "    layers.Dropout(0.2),\n",
    "    layers.Dense(10,activation='softmax')\n",
    "])\n",
    "model2.compile(optimizer='adam',metrics=['accuracy'],loss='sparse_categorical_crossentropy')"
   ]
  },
  {
   "cell_type": "code",
   "execution_count": 26,
   "metadata": {},
   "outputs": [
    {
     "output_type": "execute_result",
     "data": {
      "text/plain": "[<tf.Variable 'dense_6/kernel:0' shape=(784, 512) dtype=float32, numpy=\n array([[-0.06065919,  0.02844039,  0.00487544, ...,  0.02208591,\n          0.06722806, -0.01211688],\n        [-0.0521929 , -0.04524567,  0.04971918, ...,  0.00252265,\n         -0.01917165,  0.06283465],\n        [-0.00174695,  0.01990955, -0.02675221, ...,  0.05291025,\n          0.03889732,  0.04520942],\n        ...,\n        [ 0.02700689,  0.06649047,  0.02579041, ..., -0.01639818,\n         -0.00590718, -0.04234947],\n        [ 0.01937632,  0.00381311, -0.03251495, ...,  0.02723697,\n         -0.06545412,  0.02881331],\n        [-0.03398974, -0.0310384 ,  0.06666264, ...,  0.02719057,\n         -0.06660717,  0.03081127]], dtype=float32)>,\n <tf.Variable 'dense_6/bias:0' shape=(512,) dtype=float32, numpy=\n array([0., 0., 0., 0., 0., 0., 0., 0., 0., 0., 0., 0., 0., 0., 0., 0., 0.,\n        0., 0., 0., 0., 0., 0., 0., 0., 0., 0., 0., 0., 0., 0., 0., 0., 0.,\n        0., 0., 0., 0., 0., 0., 0., 0., 0., 0., 0., 0., 0., 0., 0., 0., 0.,\n        0., 0., 0., 0., 0., 0., 0., 0., 0., 0., 0., 0., 0., 0., 0., 0., 0.,\n        0., 0., 0., 0., 0., 0., 0., 0., 0., 0., 0., 0., 0., 0., 0., 0., 0.,\n        0., 0., 0., 0., 0., 0., 0., 0., 0., 0., 0., 0., 0., 0., 0., 0., 0.,\n        0., 0., 0., 0., 0., 0., 0., 0., 0., 0., 0., 0., 0., 0., 0., 0., 0.,\n        0., 0., 0., 0., 0., 0., 0., 0., 0., 0., 0., 0., 0., 0., 0., 0., 0.,\n        0., 0., 0., 0., 0., 0., 0., 0., 0., 0., 0., 0., 0., 0., 0., 0., 0.,\n        0., 0., 0., 0., 0., 0., 0., 0., 0., 0., 0., 0., 0., 0., 0., 0., 0.,\n        0., 0., 0., 0., 0., 0., 0., 0., 0., 0., 0., 0., 0., 0., 0., 0., 0.,\n        0., 0., 0., 0., 0., 0., 0., 0., 0., 0., 0., 0., 0., 0., 0., 0., 0.,\n        0., 0., 0., 0., 0., 0., 0., 0., 0., 0., 0., 0., 0., 0., 0., 0., 0.,\n        0., 0., 0., 0., 0., 0., 0., 0., 0., 0., 0., 0., 0., 0., 0., 0., 0.,\n        0., 0., 0., 0., 0., 0., 0., 0., 0., 0., 0., 0., 0., 0., 0., 0., 0.,\n        0., 0., 0., 0., 0., 0., 0., 0., 0., 0., 0., 0., 0., 0., 0., 0., 0.,\n        0., 0., 0., 0., 0., 0., 0., 0., 0., 0., 0., 0., 0., 0., 0., 0., 0.,\n        0., 0., 0., 0., 0., 0., 0., 0., 0., 0., 0., 0., 0., 0., 0., 0., 0.,\n        0., 0., 0., 0., 0., 0., 0., 0., 0., 0., 0., 0., 0., 0., 0., 0., 0.,\n        0., 0., 0., 0., 0., 0., 0., 0., 0., 0., 0., 0., 0., 0., 0., 0., 0.,\n        0., 0., 0., 0., 0., 0., 0., 0., 0., 0., 0., 0., 0., 0., 0., 0., 0.,\n        0., 0., 0., 0., 0., 0., 0., 0., 0., 0., 0., 0., 0., 0., 0., 0., 0.,\n        0., 0., 0., 0., 0., 0., 0., 0., 0., 0., 0., 0., 0., 0., 0., 0., 0.,\n        0., 0., 0., 0., 0., 0., 0., 0., 0., 0., 0., 0., 0., 0., 0., 0., 0.,\n        0., 0., 0., 0., 0., 0., 0., 0., 0., 0., 0., 0., 0., 0., 0., 0., 0.,\n        0., 0., 0., 0., 0., 0., 0., 0., 0., 0., 0., 0., 0., 0., 0., 0., 0.,\n        0., 0., 0., 0., 0., 0., 0., 0., 0., 0., 0., 0., 0., 0., 0., 0., 0.,\n        0., 0., 0., 0., 0., 0., 0., 0., 0., 0., 0., 0., 0., 0., 0., 0., 0.,\n        0., 0., 0., 0., 0., 0., 0., 0., 0., 0., 0., 0., 0., 0., 0., 0., 0.,\n        0., 0., 0., 0., 0., 0., 0., 0., 0., 0., 0., 0., 0., 0., 0., 0., 0.,\n        0., 0.], dtype=float32)>,\n <tf.Variable 'dense_7/kernel:0' shape=(512, 10) dtype=float32, numpy=\n array([[-0.07158568, -0.06522274, -0.09300184, ...,  0.04094817,\n         -0.07488316, -0.06832625],\n        [-0.09352288, -0.03855532, -0.04272276, ..., -0.04160824,\n         -0.07679437, -0.03983673],\n        [-0.07615566, -0.00602453, -0.03272153, ..., -0.05908844,\n          0.09337933, -0.03579853],\n        ...,\n        [-0.00670694, -0.07586446, -0.08774199, ..., -0.06276578,\n         -0.01938616,  0.01889332],\n        [-0.09917624, -0.03781995, -0.09274936, ...,  0.03336108,\n          0.02459709, -0.03800926],\n        [ 0.10454292,  0.09661926, -0.05766686, ..., -0.09695492,\n         -0.00083291, -0.01478263]], dtype=float32)>,\n <tf.Variable 'dense_7/bias:0' shape=(10,) dtype=float32, numpy=array([0., 0., 0., 0., 0., 0., 0., 0., 0., 0.], dtype=float32)>]"
     },
     "metadata": {},
     "execution_count": 26
    }
   ],
   "source": [
    "model2.weights"
   ]
  },
  {
   "cell_type": "code",
   "execution_count": 30,
   "metadata": {},
   "outputs": [
    {
     "output_type": "execute_result",
     "data": {
      "text/plain": "<tensorflow.python.training.tracking.util.CheckpointLoadStatus at 0x7f064c502c70>"
     },
     "metadata": {},
     "execution_count": 30
    }
   ],
   "source": [
    "model2.load_weights(latest)"
   ]
  },
  {
   "cell_type": "code",
   "execution_count": 31,
   "metadata": {},
   "outputs": [
    {
     "output_type": "execute_result",
     "data": {
      "text/plain": "[<tf.Variable 'dense_8/kernel:0' shape=(784, 512) dtype=float32, numpy=\n array([[-0.06112225, -0.04991626,  0.0638985 , ..., -0.05200978,\n          0.04860543,  0.05558617],\n        [-0.02373032,  0.04674341, -0.01070252, ..., -0.02393224,\n          0.02293156,  0.05734757],\n        [-0.01554946, -0.00721699, -0.01305792, ..., -0.03048572,\n          0.02599899,  0.03565741],\n        ...,\n        [ 0.06432995,  0.05064917,  0.01892324, ...,  0.06158799,\n         -0.01781737, -0.018666  ],\n        [ 0.04309671,  0.00369897, -0.01067887, ..., -0.04879709,\n          0.02248716, -0.00259392],\n        [-0.01979022,  0.05032884,  0.01102728, ..., -0.00672696,\n         -0.05731683,  0.02007256]], dtype=float32)>,\n <tf.Variable 'dense_8/bias:0' shape=(512,) dtype=float32, numpy=\n array([-0.01741302,  0.05510779, -0.0172956 , -0.00976468, -0.00344585,\n        -0.06363378,  0.00309287, -0.0124237 , -0.09747936, -0.02648429,\n        -0.04262289,  0.0101248 , -0.03623094, -0.05316623, -0.04658864,\n         0.01788457,  0.03667092, -0.03300397,  0.00709857,  0.00077953,\n        -0.02847477, -0.02039333, -0.0274699 , -0.02533396, -0.01736961,\n        -0.01482359, -0.02761576, -0.02606633, -0.13793595, -0.02005328,\n        -0.04473687, -0.09309573, -0.00766804, -0.04597538, -0.04752929,\n        -0.03350938,  0.00404395, -0.02102037, -0.03664667, -0.02332509,\n        -0.05415734, -0.0640474 , -0.02469895,  0.0040792 , -0.02509487,\n        -0.03995152, -0.01367678, -0.09857611, -0.0156314 , -0.0234684 ,\n         0.00447545, -0.06555619, -0.03681585, -0.03727162, -0.04440081,\n        -0.04325049, -0.05418425, -0.06737177, -0.03916039, -0.00280963,\n         0.01208138,  0.00032795,  0.01387918, -0.02381718, -0.03563647,\n        -0.10445146, -0.03123649, -0.01640423, -0.03426702, -0.07146777,\n        -0.02217285, -0.01274649,  0.01759855, -0.05143206, -0.05242397,\n        -0.12693067, -0.10937616, -0.02840273, -0.07945393, -0.03488665,\n        -0.07132062, -0.04906322, -0.08642582, -0.03447224, -0.01928492,\n        -0.03769058, -0.01856178, -0.16172129, -0.02741897, -0.02042036,\n         0.02011452, -0.1376391 , -0.02246669, -0.05294086,  0.00079634,\n        -0.03148729, -0.04844407, -0.08886812, -0.12745558, -0.03297632,\n        -0.06625091, -0.02354169, -0.03084086, -0.05961767, -0.01836186,\n        -0.05941548, -0.09042206, -0.09712367, -0.00340724, -0.01561014,\n        -0.02910412,  0.05167796, -0.08741002, -0.0487451 , -0.02741712,\n        -0.03366863, -0.02180106, -0.03713844, -0.02674953, -0.06002127,\n        -0.02471387, -0.09286544, -0.05292635,  0.00327456, -0.05007656,\n        -0.0168489 , -0.02980248, -0.01165665, -0.02532245, -0.0332525 ,\n        -0.04575862, -0.02330469, -0.03009104, -0.01944978, -0.04480321,\n        -0.02291528, -0.07402166, -0.0329087 , -0.01265509, -0.12004077,\n        -0.04914006, -0.04104633, -0.0560553 ,  0.00603897, -0.02286713,\n        -0.02973645, -0.09430577, -0.08595057, -0.02062843, -0.01749165,\n        -0.03778445, -0.0668541 , -0.04025454, -0.01702132, -0.0614576 ,\n         0.0244961 , -0.00694348, -0.14426257, -0.03965614, -0.07421362,\n        -0.0268115 , -0.01586301, -0.01305621, -0.02919854, -0.04727118,\n        -0.02242281, -0.04818586, -0.07035775,  0.00657895, -0.01970454,\n        -0.03273155, -0.0473005 , -0.03140499, -0.05103914, -0.02546623,\n        -0.02063392, -0.00341386, -0.0643646 , -0.04611615, -0.02046935,\n        -0.01819025, -0.01012668, -0.01396732, -0.01431086, -0.04260363,\n        -0.08280428, -0.02011473, -0.03456291, -0.02363499,  0.02267669,\n        -0.01229454, -0.11981867, -0.02824327, -0.01192966, -0.04313444,\n        -0.03317283, -0.04812852, -0.03821649, -0.06972869, -0.04594355,\n        -0.0237749 , -0.06177459, -0.01843449, -0.01644175, -0.0119377 ,\n        -0.03977994,  0.00242716, -0.04746369, -0.08098843, -0.0418602 ,\n        -0.00918505, -0.11493067, -0.07455279, -0.06298549, -0.0182694 ,\n        -0.05096898, -0.0230507 , -0.04204672, -0.01000198, -0.00511657,\n        -0.04316814, -0.06306358, -0.04441177, -0.07971904, -0.03202769,\n        -0.01143135, -0.05063754, -0.01458198,  0.0135354 , -0.02817601,\n        -0.08998146, -0.0282071 , -0.05278486, -0.02621221,  0.03262889,\n        -0.0337047 , -0.0155756 , -0.03492527,  0.01477225, -0.04960741,\n        -0.04216397, -0.0893645 , -0.00744663, -0.01775083, -0.02073062,\n         0.03396185, -0.02309509, -0.00458458, -0.02858241, -0.04666227,\n        -0.01878786, -0.02797826, -0.05294039, -0.08758039, -0.01991488,\n        -0.0226588 , -0.0260846 , -0.01281039, -0.05434032, -0.0726745 ,\n        -0.05707583, -0.0138299 ,  0.00125314, -0.03314623, -0.06296356,\n        -0.09451837, -0.02012255, -0.0311334 , -0.08721214, -0.0591578 ,\n        -0.04889287, -0.05345626, -0.01417968, -0.03799619, -0.03121418,\n        -0.04396986, -0.02555341, -0.024128  , -0.04214624, -0.01654419,\n        -0.07351088, -0.04967919, -0.06297408, -0.01430893, -0.14855132,\n        -0.0152777 , -0.04991594, -0.03553677, -0.02581875, -0.05053815,\n        -0.02681924, -0.0298    , -0.03365173,  0.00101151,  0.03608001,\n        -0.01609333, -0.07135235, -0.01928153, -0.05141643, -0.04622594,\n        -0.0530263 , -0.04413106, -0.01265567, -0.02096925, -0.08045743,\n         0.00644705, -0.03183391, -0.01750455, -0.08747922,  0.01871505,\n        -0.06692611, -0.01588926, -0.07549521, -0.04338562, -0.01967473,\n        -0.07039473, -0.08240423, -0.11734455,  0.03830897, -0.0301941 ,\n        -0.05486059, -0.04935188, -0.01278914, -0.02409681, -0.0013194 ,\n        -0.06101688, -0.07590095, -0.03349233,  0.02984229, -0.04816577,\n        -0.00896182, -0.05065371, -0.06244018, -0.01846448, -0.05702559,\n        -0.07937944, -0.03286303, -0.04189692,  0.02530993, -0.03302716,\n        -0.14366509, -0.07450245, -0.05045918, -0.04361039, -0.07657584,\n        -0.03516077, -0.03212509, -0.055548  , -0.02870187,  0.02042787,\n         0.00377423, -0.07177414, -0.06086894,  0.00456714, -0.05288685,\n        -0.03733062, -0.05621079, -0.01429512, -0.04104334, -0.06821811,\n        -0.02293951, -0.02622734, -0.02728042, -0.14713764, -0.03137299,\n        -0.02771834, -0.00984886, -0.03330142, -0.03943515, -0.03274138,\n        -0.0652417 , -0.02754945, -0.07125583, -0.06904539, -0.03258426,\n        -0.04594621, -0.03612594, -0.01576109, -0.01162451, -0.08434124,\n        -0.00788188, -0.02037275, -0.16281055, -0.02475266, -0.02872254,\n        -0.05235846, -0.04260652, -0.05261871, -0.02368622, -0.01494358,\n        -0.01201319, -0.04115991, -0.0392672 , -0.03220404, -0.02663332,\n        -0.1122087 , -0.06018753, -0.01530108, -0.03319359, -0.0967726 ,\n        -0.01402176, -0.02430687, -0.09755735, -0.02737417, -0.02924339,\n        -0.01987875, -0.01019657, -0.04171473, -0.02065118, -0.02825266,\n        -0.01152732, -0.01690467, -0.06651687, -0.04914893, -0.02831868,\n        -0.03816327, -0.0224613 , -0.11958584, -0.06286915, -0.01113243,\n        -0.02989016, -0.02461519, -0.05773811, -0.01856607, -0.07264034,\n         0.02572256, -0.04780779, -0.0151158 , -0.04921441, -0.01606779,\n        -0.08178145, -0.04001139, -0.00974931, -0.04973126, -0.03870497,\n        -0.02447972, -0.10182136, -0.08504675, -0.01886407, -0.02352003,\n        -0.09555124, -0.05162384, -0.04053696, -0.0332275 , -0.08264371,\n        -0.07807653, -0.04394982, -0.01823747, -0.10031158, -0.04530707,\n         0.02203931, -0.01275696, -0.0817029 , -0.06024946, -0.04753185,\n        -0.0336212 , -0.04261122, -0.03653966,  0.0003388 , -0.05296647,\n        -0.00016941, -0.09050494, -0.05239269,  0.00563578, -0.09940861,\n        -0.00238643, -0.05496672,  0.04469145, -0.0220371 , -0.00909011,\n        -0.05597988, -0.02908679,  0.02276552, -0.02561946, -0.0135998 ,\n        -0.03319275,  0.00348119,  0.00925447, -0.02157869, -0.05653322,\n        -0.03767345, -0.04678816, -0.03842404, -0.02316917, -0.07999887,\n        -0.04757269, -0.02968104, -0.03809829, -0.00785484, -0.02525198,\n        -0.04786176, -0.08376133, -0.02258756, -0.02862288, -0.01392315,\n        -0.06849313, -0.03249713,  0.02151414, -0.00833865, -0.08322237,\n        -0.01666089, -0.02290684, -0.10199989, -0.0502851 , -0.05448466,\n        -0.02497483, -0.00700261, -0.03445192,  0.01007469, -0.03492293,\n        -0.07665388, -0.03702372], dtype=float32)>,\n <tf.Variable 'dense_9/kernel:0' shape=(512, 10) dtype=float32, numpy=\n array([[ 0.03790298, -0.0655635 ,  0.07116698, ...,  0.00952153,\n          0.08281718, -0.07144974],\n        [-0.0487753 ,  0.0081094 ,  0.00903211, ..., -0.20517002,\n          0.01546484,  0.0708043 ],\n        [ 0.02333963,  0.09808933,  0.12399317, ...,  0.01504312,\n          0.02907447, -0.06080211],\n        ...,\n        [-0.12528235,  0.08183179,  0.02426313, ..., -0.02000462,\n          0.11250684, -0.01126586],\n        [-0.05816333,  0.10508248, -0.04440107, ...,  0.0756126 ,\n         -0.02615984, -0.0023379 ],\n        [ 0.06582124,  0.03149536, -0.02755181, ..., -0.04971439,\n          0.04089409,  0.0867883 ]], dtype=float32)>,\n <tf.Variable 'dense_9/bias:0' shape=(10,) dtype=float32, numpy=\n array([ 0.29965988, -0.26144677, -0.3220762 , -0.06888627, -0.2999829 ,\n        -0.6012526 , -0.5337336 , -0.7443449 ,  1.6748579 ,  0.15772355],\n       dtype=float32)>]"
     },
     "metadata": {},
     "execution_count": 31
    }
   ],
   "source": [
    "model2.weights"
   ]
  },
  {
   "cell_type": "code",
   "execution_count": 32,
   "metadata": {},
   "outputs": [
    {
     "output_type": "stream",
     "name": "stdout",
     "text": "157/157 [==============================] - 0s 694us/step - loss: 2.4931 - accuracy: 0.9330\n"
    },
    {
     "output_type": "execute_result",
     "data": {
      "text/plain": "0.9330000281333923"
     },
     "metadata": {},
     "execution_count": 32
    }
   ],
   "source": [
    "evaluate(model)"
   ]
  },
  {
   "cell_type": "code",
   "execution_count": 33,
   "metadata": {},
   "outputs": [
    {
     "output_type": "stream",
     "name": "stdout",
     "text": "157/157 [==============================] - 0s 736us/step - loss: 2.5727 - accuracy: 0.9306\n"
    },
    {
     "output_type": "execute_result",
     "data": {
      "text/plain": "0.9305999875068665"
     },
     "metadata": {},
     "execution_count": 33
    }
   ],
   "source": [
    "evaluate(model2)"
   ]
  },
  {
   "cell_type": "code",
   "execution_count": 34,
   "metadata": {},
   "outputs": [],
   "source": [
    "model2.save_weights('./manuelCP')"
   ]
  },
  {
   "cell_type": "code",
   "execution_count": 35,
   "metadata": {},
   "outputs": [],
   "source": [
    "model3 = models.Sequential([\n",
    "    layers.Dense(512,activation='relu',input_shape= (784,)),\n",
    "    layers.Dropout(0.2),\n",
    "    layers.Dense(10,activation='softmax')\n",
    "])\n",
    "model3.compile(optimizer='adam',metrics=['accuracy'],loss='sparse_categorical_crossentropy')"
   ]
  },
  {
   "cell_type": "code",
   "execution_count": 36,
   "metadata": {},
   "outputs": [
    {
     "output_type": "execute_result",
     "data": {
      "text/plain": "<tensorflow.python.training.tracking.util.CheckpointLoadStatus at 0x7f06247ad910>"
     },
     "metadata": {},
     "execution_count": 36
    }
   ],
   "source": [
    "model3.load_weights('./manuelCP')"
   ]
  },
  {
   "cell_type": "code",
   "execution_count": 37,
   "metadata": {},
   "outputs": [
    {
     "output_type": "stream",
     "name": "stdout",
     "text": "157/157 [==============================] - 0s 705us/step - loss: 2.5727 - accuracy: 0.9306\n"
    },
    {
     "output_type": "execute_result",
     "data": {
      "text/plain": "0.9305999875068665"
     },
     "metadata": {},
     "execution_count": 37
    }
   ],
   "source": [
    "evaluate(model3)"
   ]
  },
  {
   "cell_type": "markdown",
   "metadata": {},
   "source": [
    "# Save model\n",
    "1) model.save   HDF5"
   ]
  },
  {
   "cell_type": "code",
   "execution_count": 38,
   "metadata": {},
   "outputs": [],
   "source": [
    " model3.save('model3.h5')"
   ]
  },
  {
   "cell_type": "code",
   "execution_count": 39,
   "metadata": {},
   "outputs": [
    {
     "output_type": "stream",
     "name": "stdout",
     "text": "WARNING:tensorflow:Error in loading the saved optimizer state. As a result, your model is starting with a freshly initialized optimizer.\n"
    }
   ],
   "source": [
    "model4= models.load_model('model3.h5')"
   ]
  },
  {
   "cell_type": "code",
   "execution_count": 40,
   "metadata": {},
   "outputs": [
    {
     "output_type": "stream",
     "name": "stdout",
     "text": "157/157 [==============================] - 0s 815us/step - loss: 2.5727 - accuracy: 0.9306\n"
    },
    {
     "output_type": "execute_result",
     "data": {
      "text/plain": "0.9305999875068665"
     },
     "metadata": {},
     "execution_count": 40
    }
   ],
   "source": [
    "evaluate(model4)"
   ]
  },
  {
   "cell_type": "code",
   "execution_count": 41,
   "metadata": {},
   "outputs": [],
   "source": [
    "import time\n",
    "saved_model_path = \"./saved_models/{}\".format(int(time.time()))"
   ]
  },
  {
   "cell_type": "code",
   "execution_count": 42,
   "metadata": {},
   "outputs": [
    {
     "output_type": "stream",
     "name": "stdout",
     "text": "WARNING:tensorflow:From /home/xiaotongfeng/.local/lib/python3.8/site-packages/tensorflow/python/ops/resource_variable_ops.py:1813: calling BaseResourceVariable.__init__ (from tensorflow.python.ops.resource_variable_ops) with constraint is deprecated and will be removed in a future version.\nInstructions for updating:\nIf using Keras pass *_constraint arguments to layers.\nINFO:tensorflow:Assets written to: /tmp/model/assets\n"
    }
   ],
   "source": [
    "model3.save('/tmp/model')\n"
   ]
  },
  {
   "cell_type": "code",
   "execution_count": 43,
   "metadata": {},
   "outputs": [
    {
     "output_type": "stream",
     "name": "stdout",
     "text": "INFO:tensorflow:Assets written to: ./model/assets\n"
    }
   ],
   "source": [
    "model3.save('./model')\n"
   ]
  },
  {
   "cell_type": "code",
   "execution_count": 44,
   "metadata": {},
   "outputs": [],
   "source": [
    "model5 = keras.models.load_model('./model')"
   ]
  },
  {
   "cell_type": "code",
   "execution_count": 45,
   "metadata": {},
   "outputs": [
    {
     "output_type": "stream",
     "name": "stdout",
     "text": "157/157 [==============================] - 0s 688us/step - loss: 2.5727 - accuracy: 0.9306\n"
    },
    {
     "output_type": "execute_result",
     "data": {
      "text/plain": "0.9305999875068665"
     },
     "metadata": {},
     "execution_count": 45
    }
   ],
   "source": [
    "evaluate(model5)"
   ]
  }
 ],
 "metadata": {
  "language_info": {
   "codemirror_mode": {
    "name": "ipython",
    "version": 3
   },
   "file_extension": ".py",
   "mimetype": "text/x-python",
   "name": "python",
   "nbconvert_exporter": "python",
   "pygments_lexer": "ipython3",
   "version": "3.8.2-final"
  },
  "orig_nbformat": 2,
  "kernelspec": {
   "name": "python38264bit5b96df470e0b46698216581227a23266",
   "display_name": "Python 3.8.2 64-bit"
  }
 },
 "nbformat": 4,
 "nbformat_minor": 2
}